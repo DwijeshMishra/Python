{
  "nbformat": 4,
  "nbformat_minor": 0,
  "metadata": {
    "kernelspec": {
      "display_name": "Python 3",
      "language": "python",
      "name": "python3"
    },
    "language_info": {
      "codemirror_mode": {
        "name": "ipython",
        "version": 3
      },
      "file_extension": ".py",
      "mimetype": "text/x-python",
      "name": "python",
      "nbconvert_exporter": "python",
      "pygments_lexer": "ipython3",
      "version": "3.7.3"
    },
    "colab": {
      "name": "5_Loops.ipynb",
      "provenance": [],
      "include_colab_link": true
    }
  },
  "cells": [
    {
      "cell_type": "markdown",
      "metadata": {
        "id": "view-in-github",
        "colab_type": "text"
      },
      "source": [
        "<a href=\"https://colab.research.google.com/github/abhishekatujjain/Python/blob/master/5_Loops.ipynb\" target=\"_parent\"><img src=\"https://colab.research.google.com/assets/colab-badge.svg\" alt=\"Open In Colab\"/></a>"
      ]
    },
    {
      "cell_type": "code",
      "metadata": {
        "id": "drURcuryO6d6",
        "colab_type": "code",
        "colab": {},
        "outputId": "7373d987-8d9c-4dd8-fb25-26d019d5132c"
      },
      "source": [
        "# Printing\n",
        "name = \"Abhishek\"\n",
        "mname = \"Singh\"\n",
        "lname = \"Rathore\"\n",
        "print(name,mname,lname)\n",
        "#Automatic Spacing"
      ],
      "execution_count": null,
      "outputs": [
        {
          "output_type": "stream",
          "text": [
            "Abhishek Singh Rathore\n"
          ],
          "name": "stdout"
        }
      ]
    },
    {
      "cell_type": "code",
      "metadata": {
        "id": "bfQqJC5vO6eH",
        "colab_type": "code",
        "colab": {},
        "outputId": "47d66f09-710b-4dd1-afb8-608f43f87e24"
      },
      "source": [
        "print(lname, \",\",name,mname)"
      ],
      "execution_count": null,
      "outputs": [
        {
          "output_type": "stream",
          "text": [
            "Rathore , Abhishek Singh\n"
          ],
          "name": "stdout"
        }
      ]
    },
    {
      "cell_type": "code",
      "metadata": {
        "id": "z7bdj5ShO6eQ",
        "colab_type": "code",
        "colab": {},
        "outputId": "e0678595-993b-4a0b-c432-3d8c251bd4ca"
      },
      "source": [
        "# to remove the space before comma\n",
        "print(lname+\",\",name,mname)"
      ],
      "execution_count": null,
      "outputs": [
        {
          "output_type": "stream",
          "text": [
            "Rathore, Abhishek Singh\n"
          ],
          "name": "stdout"
        }
      ]
    },
    {
      "cell_type": "code",
      "metadata": {
        "id": "4mhW9L_eO6eW",
        "colab_type": "code",
        "colab": {},
        "outputId": "ea32f76c-6a37-48d1-ce9a-453e78546e4c"
      },
      "source": [
        "# Separator other than whitespace\n",
        "print(name,mname,lname,sep=\"_\")\n",
        "print(\"Karan\",\"Arjun\",sep=\"-\")"
      ],
      "execution_count": null,
      "outputs": [
        {
          "output_type": "stream",
          "text": [
            "Abhishek_Singh_Rathore\n",
            "Karan-Arjun\n"
          ],
          "name": "stdout"
        }
      ]
    },
    {
      "cell_type": "code",
      "metadata": {
        "id": "RC3TNE4mO6eq",
        "colab_type": "code",
        "colab": {},
        "outputId": "3f57e778-f527-4884-b097-a2cb4b5a89ae"
      },
      "source": [
        "print(\"Hello\")\n",
        "print(\"World\")"
      ],
      "execution_count": null,
      "outputs": [
        {
          "output_type": "stream",
          "text": [
            "Hello\n",
            "World\n"
          ],
          "name": "stdout"
        }
      ]
    },
    {
      "cell_type": "code",
      "metadata": {
        "id": "pGXOO1s5O6ex",
        "colab_type": "code",
        "colab": {},
        "outputId": "867f025e-58fb-40dc-e125-ff7a19e675f2"
      },
      "source": [
        "# Problem with above statement is that end of string is new line character\n",
        "# custom endline character\n",
        "print(\"Hello\", end=\"!\")\n",
        "print(\"World\")"
      ],
      "execution_count": null,
      "outputs": [
        {
          "output_type": "stream",
          "text": [
            "Hello!World\n"
          ],
          "name": "stdout"
        }
      ]
    },
    {
      "cell_type": "code",
      "metadata": {
        "id": "0irvKPKJO6e4",
        "colab_type": "code",
        "colab": {}
      },
      "source": [
        "# Importing Something\n",
        "import somemodule\n",
        "or use\n",
        "from somemodule import somefunction\n",
        "or\n",
        "from somemodule import somefunction, anotherfunction, yetanotherfunction\n",
        "or\n",
        "from somemodule import *"
      ],
      "execution_count": null,
      "outputs": []
    },
    {
      "cell_type": "code",
      "metadata": {
        "id": "dm7RcvnAO6fC",
        "colab_type": "code",
        "colab": {},
        "outputId": "41edf421-b2f4-424a-adbe-2c96ec229ae7"
      },
      "source": [
        "import math as foo\n",
        "foo.sqrt(4)"
      ],
      "execution_count": null,
      "outputs": [
        {
          "output_type": "execute_result",
          "data": {
            "text/plain": [
              "2.0"
            ]
          },
          "metadata": {
            "tags": []
          },
          "execution_count": 8
        }
      ]
    },
    {
      "cell_type": "code",
      "metadata": {
        "id": "SpWiC5xpO6fK",
        "colab_type": "code",
        "colab": {},
        "outputId": "4fa50099-68b3-4195-8c0c-b66b6ae1ad8d"
      },
      "source": [
        "from math import sqrt as foo1\n",
        "foo1(2)"
      ],
      "execution_count": null,
      "outputs": [
        {
          "output_type": "execute_result",
          "data": {
            "text/plain": [
              "1.4142135623730951"
            ]
          },
          "metadata": {
            "tags": []
          },
          "execution_count": 9
        }
      ]
    },
    {
      "cell_type": "code",
      "metadata": {
        "id": "5mHJCPTKO6fQ",
        "colab_type": "code",
        "colab": {},
        "outputId": "125ad2b3-5575-488d-8750-287d122d7db5"
      },
      "source": [
        "#Assignment Magic\n",
        "x,y,z = 1,2,3\n",
        "print(x,y,z)"
      ],
      "execution_count": null,
      "outputs": [
        {
          "output_type": "stream",
          "text": [
            "1 2 3\n"
          ],
          "name": "stdout"
        }
      ]
    },
    {
      "cell_type": "code",
      "metadata": {
        "id": "DKxK4j-wO6fT",
        "colab_type": "code",
        "colab": {},
        "outputId": "4efc06c7-547f-40fd-d2a1-ab067cb85742"
      },
      "source": [
        "#swapping\n",
        "x,y =y,x\n",
        "print(x,y)"
      ],
      "execution_count": null,
      "outputs": [
        {
          "output_type": "stream",
          "text": [
            "2 1\n"
          ],
          "name": "stdout"
        }
      ]
    },
    {
      "cell_type": "code",
      "metadata": {
        "id": "-LPO8MgDO6fW",
        "colab_type": "code",
        "colab": {},
        "outputId": "abe49af4-4c88-480c-9e37-5fb91bd4b890"
      },
      "source": [
        "values = 1,2,3\n",
        "print(values)\n",
        "a,b,c = values\n",
        "print(a,b,c)"
      ],
      "execution_count": null,
      "outputs": [
        {
          "output_type": "stream",
          "text": [
            "(1, 2, 3)\n",
            "1 2 3\n"
          ],
          "name": "stdout"
        }
      ]
    },
    {
      "cell_type": "code",
      "metadata": {
        "id": "zK8CUfZ3O6fa",
        "colab_type": "code",
        "colab": {},
        "outputId": "4fb2d461-49f8-4be9-b3b5-c7583b190775"
      },
      "source": [
        "#But the problem is\n",
        "a,b,c =1,2"
      ],
      "execution_count": null,
      "outputs": [
        {
          "output_type": "error",
          "ename": "ValueError",
          "evalue": "not enough values to unpack (expected 3, got 2)",
          "traceback": [
            "\u001b[1;31m---------------------------------------------------------------------------\u001b[0m",
            "\u001b[1;31mValueError\u001b[0m                                Traceback (most recent call last)",
            "\u001b[1;32m<ipython-input-13-eff2f9d88b87>\u001b[0m in \u001b[0;36m<module>\u001b[1;34m\u001b[0m\n\u001b[0;32m      1\u001b[0m \u001b[1;31m#But the problem is\u001b[0m\u001b[1;33m\u001b[0m\u001b[1;33m\u001b[0m\u001b[1;33m\u001b[0m\u001b[0m\n\u001b[1;32m----> 2\u001b[1;33m \u001b[0ma\u001b[0m\u001b[1;33m,\u001b[0m\u001b[0mb\u001b[0m\u001b[1;33m,\u001b[0m\u001b[0mc\u001b[0m \u001b[1;33m=\u001b[0m\u001b[1;36m1\u001b[0m\u001b[1;33m,\u001b[0m\u001b[1;36m2\u001b[0m\u001b[1;33m\u001b[0m\u001b[1;33m\u001b[0m\u001b[0m\n\u001b[0m",
            "\u001b[1;31mValueError\u001b[0m: not enough values to unpack (expected 3, got 2)"
          ]
        }
      ]
    },
    {
      "cell_type": "code",
      "metadata": {
        "id": "wFmT2mFZO6fg",
        "colab_type": "code",
        "colab": {},
        "outputId": "dacc85df-01a9-4389-ea34-2b6ac72f9465"
      },
      "source": [
        "#Right from dictonary too\n",
        "scoundrel = {'name': 'Robin', 'girlfriend': 'Marion'}\n",
        "key, value = scoundrel.popitem()\n",
        "print(key)\n",
        "print(value)"
      ],
      "execution_count": null,
      "outputs": [
        {
          "output_type": "stream",
          "text": [
            "girlfriend\n",
            "Marion\n"
          ],
          "name": "stdout"
        }
      ]
    },
    {
      "cell_type": "code",
      "metadata": {
        "id": "Fsz7JE_KO6fk",
        "colab_type": "code",
        "colab": {}
      },
      "source": [
        "a, b, *rest = 1,2,3,4,5"
      ],
      "execution_count": null,
      "outputs": []
    },
    {
      "cell_type": "code",
      "metadata": {
        "id": "SgjJvw_pO6fp",
        "colab_type": "code",
        "colab": {},
        "outputId": "ae3c2fa7-fae1-49bf-da0f-233dba7eb5d6"
      },
      "source": [
        "print(rest)"
      ],
      "execution_count": null,
      "outputs": [
        {
          "output_type": "stream",
          "text": [
            "[3, 4, 5]\n"
          ],
          "name": "stdout"
        }
      ]
    },
    {
      "cell_type": "code",
      "metadata": {
        "id": "sXfSv3Z7O6fv",
        "colab_type": "code",
        "colab": {},
        "outputId": "f843efe7-0f87-4644-99c9-df2bc241d6cb"
      },
      "source": [
        "name = \"Gangadhar Vidyadhar Mayadhar Omkarnath Shastri\"\n",
        "fname,*middle, avainame, lname = name.split()\n",
        "print(fname)\n",
        "print(middle)\n",
        "print(lname)"
      ],
      "execution_count": null,
      "outputs": [
        {
          "output_type": "stream",
          "text": [
            "Gangadhar\n",
            "['Vidyadhar', 'Mayadhar', 'Omkarnath']\n",
            "Shastri\n"
          ],
          "name": "stdout"
        }
      ]
    },
    {
      "cell_type": "code",
      "metadata": {
        "id": "noVek6UKO6f0",
        "colab_type": "code",
        "colab": {},
        "outputId": "e9390dda-56bd-4571-faac-40aadbee82d6"
      },
      "source": [
        "# starred item is list in any case\n",
        "a,b,c = 'abc'\n",
        "print(a,b,c)\n",
        "a,*b,c = 'abc'\n",
        "print(a,b,c)\n",
        "a,b,c = 'ac'\n",
        "print(a,b,c)"
      ],
      "execution_count": null,
      "outputs": [
        {
          "output_type": "stream",
          "text": [
            "a b c\n",
            "a ['b'] c\n"
          ],
          "name": "stdout"
        },
        {
          "output_type": "error",
          "ename": "ValueError",
          "evalue": "not enough values to unpack (expected 3, got 2)",
          "traceback": [
            "\u001b[1;31m---------------------------------------------------------------------------\u001b[0m",
            "\u001b[1;31mValueError\u001b[0m                                Traceback (most recent call last)",
            "\u001b[1;32m<ipython-input-22-06f3f4a98aea>\u001b[0m in \u001b[0;36m<module>\u001b[1;34m\u001b[0m\n\u001b[0;32m      4\u001b[0m \u001b[0ma\u001b[0m\u001b[1;33m,\u001b[0m\u001b[1;33m*\u001b[0m\u001b[0mb\u001b[0m\u001b[1;33m,\u001b[0m\u001b[0mc\u001b[0m \u001b[1;33m=\u001b[0m \u001b[1;34m'abc'\u001b[0m\u001b[1;33m\u001b[0m\u001b[1;33m\u001b[0m\u001b[0m\n\u001b[0;32m      5\u001b[0m \u001b[0mprint\u001b[0m\u001b[1;33m(\u001b[0m\u001b[0ma\u001b[0m\u001b[1;33m,\u001b[0m\u001b[0mb\u001b[0m\u001b[1;33m,\u001b[0m\u001b[0mc\u001b[0m\u001b[1;33m)\u001b[0m\u001b[1;33m\u001b[0m\u001b[1;33m\u001b[0m\u001b[0m\n\u001b[1;32m----> 6\u001b[1;33m \u001b[0ma\u001b[0m\u001b[1;33m,\u001b[0m\u001b[0mb\u001b[0m\u001b[1;33m,\u001b[0m\u001b[0mc\u001b[0m \u001b[1;33m=\u001b[0m \u001b[1;34m'ac'\u001b[0m\u001b[1;33m\u001b[0m\u001b[1;33m\u001b[0m\u001b[0m\n\u001b[0m\u001b[0;32m      7\u001b[0m \u001b[0mprint\u001b[0m\u001b[1;33m(\u001b[0m\u001b[0ma\u001b[0m\u001b[1;33m,\u001b[0m\u001b[0mb\u001b[0m\u001b[1;33m,\u001b[0m\u001b[0mc\u001b[0m\u001b[1;33m)\u001b[0m\u001b[1;33m\u001b[0m\u001b[1;33m\u001b[0m\u001b[0m\n",
            "\u001b[1;31mValueError\u001b[0m: not enough values to unpack (expected 3, got 2)"
          ]
        }
      ]
    },
    {
      "cell_type": "code",
      "metadata": {
        "id": "dcayJEtkO6f5",
        "colab_type": "code",
        "colab": {},
        "outputId": "fd29ccd0-f137-42ad-9038-5eba64e77f1e"
      },
      "source": [
        "#Chained Assignment\n",
        "x = y= foo1(4)\n",
        "print(x,y)\n",
        "\n",
        "# this is equals to \n",
        "# y = foo1()\n",
        "# x= y"
      ],
      "execution_count": null,
      "outputs": [
        {
          "output_type": "stream",
          "text": [
            "2.0 2.0\n"
          ],
          "name": "stdout"
        }
      ]
    },
    {
      "cell_type": "code",
      "metadata": {
        "id": "RfRcMeO1O6f9",
        "colab_type": "code",
        "colab": {},
        "outputId": "6001ff02-375e-4623-e5bc-a63199c0dcba"
      },
      "source": [
        "True"
      ],
      "execution_count": null,
      "outputs": [
        {
          "output_type": "execute_result",
          "data": {
            "text/plain": [
              "True"
            ]
          },
          "metadata": {
            "tags": []
          },
          "execution_count": 25
        }
      ]
    },
    {
      "cell_type": "code",
      "metadata": {
        "id": "KkwDJ-dOO6f_",
        "colab_type": "code",
        "colab": {},
        "outputId": "0e0db44c-0ebe-43b8-b0d9-24008cb7d321"
      },
      "source": [
        "False"
      ],
      "execution_count": null,
      "outputs": [
        {
          "output_type": "execute_result",
          "data": {
            "text/plain": [
              "False"
            ]
          },
          "metadata": {
            "tags": []
          },
          "execution_count": 26
        }
      ]
    },
    {
      "cell_type": "code",
      "metadata": {
        "id": "TTb4UtYXO6gN",
        "colab_type": "code",
        "colab": {},
        "outputId": "91cef1dc-30f2-4373-c9a2-375963e819e6"
      },
      "source": [
        "print(True == 1)\n",
        "print(False == 0)\n",
        "print(True == 98)\n",
        "print(False == -1)"
      ],
      "execution_count": null,
      "outputs": [
        {
          "output_type": "stream",
          "text": [
            "True\n",
            "True\n",
            "False\n",
            "False\n"
          ],
          "name": "stdout"
        }
      ]
    },
    {
      "cell_type": "code",
      "metadata": {
        "id": "vpG0hQFvO6gQ",
        "colab_type": "code",
        "colab": {},
        "outputId": "bc0896b5-d60c-433f-b87b-074813a9d92d"
      },
      "source": [
        "True + False + 42"
      ],
      "execution_count": null,
      "outputs": [
        {
          "output_type": "execute_result",
          "data": {
            "text/plain": [
              "43"
            ]
          },
          "metadata": {
            "tags": []
          },
          "execution_count": 32
        }
      ]
    },
    {
      "cell_type": "code",
      "metadata": {
        "id": "UuLQI6T-O6gT",
        "colab_type": "code",
        "colab": {},
        "outputId": "abd1fbe5-a104-4933-8c84-c7701cdbc355"
      },
      "source": [
        "bool(\"I think, becoz i can\")"
      ],
      "execution_count": null,
      "outputs": [
        {
          "output_type": "execute_result",
          "data": {
            "text/plain": [
              "True"
            ]
          },
          "metadata": {
            "tags": []
          },
          "execution_count": 33
        }
      ]
    },
    {
      "cell_type": "code",
      "metadata": {
        "id": "CFphiIj5O6gW",
        "colab_type": "code",
        "colab": {},
        "outputId": "5019e780-8a6a-4ba2-d504-0ab6dfe22f5a"
      },
      "source": [
        "bool(\"\")"
      ],
      "execution_count": null,
      "outputs": [
        {
          "output_type": "execute_result",
          "data": {
            "text/plain": [
              "False"
            ]
          },
          "metadata": {
            "tags": []
          },
          "execution_count": 34
        }
      ]
    },
    {
      "cell_type": "code",
      "metadata": {
        "id": "Fpd__LN6O6gd",
        "colab_type": "code",
        "colab": {},
        "outputId": "687f7f16-2567-4858-e8d2-9f75edff1eab"
      },
      "source": [
        "bool(42)"
      ],
      "execution_count": null,
      "outputs": [
        {
          "output_type": "execute_result",
          "data": {
            "text/plain": [
              "True"
            ]
          },
          "metadata": {
            "tags": []
          },
          "execution_count": 35
        }
      ]
    },
    {
      "cell_type": "code",
      "metadata": {
        "id": "KwESdqWbO6gh",
        "colab_type": "code",
        "colab": {},
        "outputId": "52d278a7-bdbc-49d5-d388-d6cfcc30406a"
      },
      "source": [
        "bool(0)"
      ],
      "execution_count": null,
      "outputs": [
        {
          "output_type": "execute_result",
          "data": {
            "text/plain": [
              "False"
            ]
          },
          "metadata": {
            "tags": []
          },
          "execution_count": 36
        }
      ]
    },
    {
      "cell_type": "code",
      "metadata": {
        "id": "sjc0SVtaO6gk",
        "colab_type": "code",
        "colab": {
          "base_uri": "https://localhost:8080/",
          "height": 50
        },
        "outputId": "f2e1dc0c-1dcc-404f-f714-51900990ff6f"
      },
      "source": [
        "# Conditions\n",
        "# Carefull about indentations and :\n",
        "name = input(\"Enter your name\")\n",
        "if name.endswith('k'):\n",
        "  print(\"Hello\", name)"
      ],
      "execution_count": null,
      "outputs": [
        {
          "output_type": "stream",
          "text": [
            "Enter your nameabhishek\n",
            "Hello abhishek\n"
          ],
          "name": "stdout"
        }
      ]
    },
    {
      "cell_type": "code",
      "metadata": {
        "id": "PvQ8tyUfO6gm",
        "colab_type": "code",
        "colab": {},
        "outputId": "4d1260d4-a3da-4a80-f819-e616033b0c30"
      },
      "source": [
        "# else clause\n",
        "name = input(\"Enter your name\")\n",
        "if name.endswith('k'):\n",
        "    print(\"Hello\")\n",
        "else:\n",
        "    print(\"Hello Stranger\")"
      ],
      "execution_count": null,
      "outputs": [
        {
          "output_type": "stream",
          "text": [
            "Enter your name AbhishekK\n"
          ],
          "name": "stdin"
        },
        {
          "output_type": "stream",
          "text": [
            "Hello Stranger\n"
          ],
          "name": "stdout"
        }
      ]
    },
    {
      "cell_type": "code",
      "metadata": {
        "id": "KaWrA0KIO6gp",
        "colab_type": "code",
        "colab": {},
        "outputId": "d3ce2321-752f-48ea-a089-b6d0e80065aa"
      },
      "source": [
        "# Ternary Operator\n",
        "status = \"friend\" if name.endswith(\"ek\") else \"stranger\"\n",
        "print(status)"
      ],
      "execution_count": null,
      "outputs": [
        {
          "output_type": "stream",
          "text": [
            "friend\n"
          ],
          "name": "stdout"
        }
      ]
    },
    {
      "cell_type": "code",
      "metadata": {
        "id": "Lw-78KV_O6gr",
        "colab_type": "code",
        "colab": {},
        "outputId": "7a990247-2d2d-455f-e276-9dc2e9abf9a5"
      },
      "source": [
        "# elif clause\n",
        "num = int(input('Enter a number: '))\n",
        "if num > 0:\n",
        "    print('The number is positive')\n",
        "elif num < 0:\n",
        "    print('The number is negative')\n",
        "else:\n",
        "    print('The number is zero')\n"
      ],
      "execution_count": null,
      "outputs": [
        {
          "output_type": "stream",
          "text": [
            "Enter a number:  0\n"
          ],
          "name": "stdin"
        },
        {
          "output_type": "stream",
          "text": [
            "The number is zero\n"
          ],
          "name": "stdout"
        }
      ]
    },
    {
      "cell_type": "code",
      "metadata": {
        "id": "ZAHxYlJxO6gu",
        "colab_type": "code",
        "colab": {}
      },
      "source": [
        "# The Python Comparison Operators\n",
        "x == y x equals y.\n",
        "x < y x is less than y.\n",
        "x > y x is greater than y.\n",
        "x >= y x is greater than or equal to y.\n",
        "x <= y x is less than or equal to y.\n",
        "x != y x is not equal to y.\n",
        "x is y x and y are the same object.\n",
        "x is not y x and y are different objects.\n",
        "x in y x is a member of the container (e.g., sequence) y.\n",
        "x not in y x is not a member of the container (e.g., sequence) y."
      ],
      "execution_count": null,
      "outputs": []
    },
    {
      "cell_type": "code",
      "metadata": {
        "id": "_biUMPP4O6gw",
        "colab_type": "code",
        "colab": {},
        "outputId": "ab98ba73-8ef8-44b5-d2c8-b64a242795e6"
      },
      "source": [
        "x = y = [1, 2, 3]\n",
        "z = [1, 2, 3]\n",
        "print(x is y)\n",
        "print(x is z)\n",
        "print(x is not z)"
      ],
      "execution_count": null,
      "outputs": [
        {
          "output_type": "stream",
          "text": [
            "True\n",
            "False\n",
            "True\n"
          ],
          "name": "stdout"
        }
      ]
    },
    {
      "cell_type": "code",
      "metadata": {
        "id": "YN8GiXwVO6gy",
        "colab_type": "code",
        "colab": {},
        "outputId": "8b826972-6d65-451c-b9c4-45d175dd4851"
      },
      "source": [
        "# String and Sequence Comparisons\n",
        "\"alpha\" < \"beta\""
      ],
      "execution_count": null,
      "outputs": [
        {
          "output_type": "execute_result",
          "data": {
            "text/plain": [
              "True"
            ]
          },
          "metadata": {
            "tags": []
          },
          "execution_count": 51
        }
      ]
    },
    {
      "cell_type": "code",
      "metadata": {
        "id": "1EwkNt9fO6g0",
        "colab_type": "code",
        "colab": {},
        "outputId": "093e8efe-16fa-4791-c016-2c83a11c2e69"
      },
      "source": [
        "\"alpha\" < \"Beta\""
      ],
      "execution_count": null,
      "outputs": [
        {
          "output_type": "execute_result",
          "data": {
            "text/plain": [
              "False"
            ]
          },
          "metadata": {
            "tags": []
          },
          "execution_count": 52
        }
      ]
    },
    {
      "cell_type": "code",
      "metadata": {
        "id": "CTYkEwM_O6g2",
        "colab_type": "code",
        "colab": {},
        "outputId": "d98d5642-fb4a-47fa-eb03-8558bc946237"
      },
      "source": [
        "[1, 2] < [2, 1]"
      ],
      "execution_count": null,
      "outputs": [
        {
          "output_type": "execute_result",
          "data": {
            "text/plain": [
              "True"
            ]
          },
          "metadata": {
            "tags": []
          },
          "execution_count": 53
        }
      ]
    },
    {
      "cell_type": "code",
      "metadata": {
        "id": "DAmWWkIxO6g4",
        "colab_type": "code",
        "colab": {},
        "outputId": "246509ec-a954-4392-a2cd-3afa9f51e05e"
      },
      "source": [
        "[1, 2, 1] < [2, 1]"
      ],
      "execution_count": null,
      "outputs": [
        {
          "output_type": "execute_result",
          "data": {
            "text/plain": [
              "True"
            ]
          },
          "metadata": {
            "tags": []
          },
          "execution_count": 54
        }
      ]
    },
    {
      "cell_type": "code",
      "metadata": {
        "id": "BfvJnp5VO6g7",
        "colab_type": "code",
        "colab": {},
        "outputId": "a115b132-425a-4559-b9d1-535723b19c2b"
      },
      "source": [
        "[2, [1, 4]] < [2, [1, 5]]"
      ],
      "execution_count": null,
      "outputs": [
        {
          "output_type": "execute_result",
          "data": {
            "text/plain": [
              "True"
            ]
          },
          "metadata": {
            "tags": []
          },
          "execution_count": 55
        }
      ]
    },
    {
      "cell_type": "code",
      "metadata": {
        "id": "R-oTeLy02HRS",
        "colab_type": "code",
        "colab": {}
      },
      "source": [
        "abhi\n",
        "abha"
      ],
      "execution_count": null,
      "outputs": []
    },
    {
      "cell_type": "code",
      "metadata": {
        "id": "wk9wpZUJO6g9",
        "colab_type": "code",
        "colab": {
          "base_uri": "https://localhost:8080/",
          "height": 195
        },
        "outputId": "7ec8636b-1dc2-42e4-e365-20763893a943"
      },
      "source": [
        "# Assertions: Just a check point\n",
        "age = 101\n",
        "assert 0 < age < 100, \"Age should be positive\"\n"
      ],
      "execution_count": null,
      "outputs": [
        {
          "output_type": "error",
          "ename": "AssertionError",
          "evalue": "ignored",
          "traceback": [
            "\u001b[0;31m---------------------------------------------------------------------------\u001b[0m",
            "\u001b[0;31mAssertionError\u001b[0m                            Traceback (most recent call last)",
            "\u001b[0;32m<ipython-input-3-d87ead82beae>\u001b[0m in \u001b[0;36m<module>\u001b[0;34m()\u001b[0m\n\u001b[1;32m      1\u001b[0m \u001b[0;31m# Assertions: Just a check point\u001b[0m\u001b[0;34m\u001b[0m\u001b[0;34m\u001b[0m\u001b[0;34m\u001b[0m\u001b[0m\n\u001b[1;32m      2\u001b[0m \u001b[0mage\u001b[0m \u001b[0;34m=\u001b[0m \u001b[0;36m101\u001b[0m\u001b[0;34m\u001b[0m\u001b[0;34m\u001b[0m\u001b[0m\n\u001b[0;32m----> 3\u001b[0;31m \u001b[0;32massert\u001b[0m \u001b[0;36m0\u001b[0m \u001b[0;34m<\u001b[0m \u001b[0mage\u001b[0m \u001b[0;34m<\u001b[0m \u001b[0;36m100\u001b[0m\u001b[0;34m,\u001b[0m \u001b[0;34m\"Age should be positive\"\u001b[0m\u001b[0;34m\u001b[0m\u001b[0;34m\u001b[0m\u001b[0m\n\u001b[0m",
            "\u001b[0;31mAssertionError\u001b[0m: Age should be positive"
          ]
        }
      ]
    },
    {
      "cell_type": "code",
      "metadata": {
        "id": "dnlepuUvO6g_",
        "colab_type": "code",
        "colab": {},
        "outputId": "92879ebd-c39d-4df9-d276-bd653cf5b9b3"
      },
      "source": [
        "# while loop\n",
        "x = 1\n",
        "while x <= 100:\n",
        "    print(x)\n",
        "    x += 20"
      ],
      "execution_count": null,
      "outputs": [
        {
          "output_type": "stream",
          "text": [
            "1\n",
            "21\n",
            "41\n",
            "61\n",
            "81\n"
          ],
          "name": "stdout"
        }
      ]
    },
    {
      "cell_type": "code",
      "metadata": {
        "id": "5z66L0ABO6hB",
        "colab_type": "code",
        "colab": {
          "base_uri": "https://localhost:8080/",
          "height": 101
        },
        "outputId": "19c557c5-fc8b-421b-dbb7-89a15add6d11"
      },
      "source": [
        "name = ''\n",
        "while not name:\n",
        "    name = input('Please enter your name: ')\n",
        "print('Hello, {}!'.format(name))"
      ],
      "execution_count": null,
      "outputs": [
        {
          "output_type": "stream",
          "text": [
            "Please enter your name: \n",
            "Please enter your name: \n",
            "Please enter your name: \n",
            "Please enter your name: harendra\n",
            "Hello, harendra!\n"
          ],
          "name": "stdout"
        }
      ]
    },
    {
      "cell_type": "code",
      "metadata": {
        "id": "YPblDk6MO6hE",
        "colab_type": "code",
        "colab": {},
        "outputId": "5c700fb9-af13-4e35-fb20-300863aec2d3"
      },
      "source": [
        "# for loops\n",
        "words = ['this', 'is', 'an', 'ex', 'parrot']\n",
        "for word in words:\n",
        "    print(word)"
      ],
      "execution_count": null,
      "outputs": [
        {
          "output_type": "stream",
          "text": [
            "this\n",
            "is\n",
            "an\n",
            "ex\n",
            "parrot\n"
          ],
          "name": "stdout"
        }
      ]
    },
    {
      "cell_type": "code",
      "metadata": {
        "id": "Vg1mT4cxO6hH",
        "colab_type": "code",
        "colab": {
          "base_uri": "https://localhost:8080/",
          "height": 34
        },
        "outputId": "9a570023-79c4-48e4-caf6-356817d6aefa"
      },
      "source": [
        "list(range(0, 10,2))"
      ],
      "execution_count": null,
      "outputs": [
        {
          "output_type": "execute_result",
          "data": {
            "text/plain": [
              "[0, 2, 4, 6, 8]"
            ]
          },
          "metadata": {
            "tags": []
          },
          "execution_count": 6
        }
      ]
    },
    {
      "cell_type": "code",
      "metadata": {
        "id": "7gIZVWssO6hJ",
        "colab_type": "code",
        "colab": {},
        "outputId": "084c467f-c811-4cf3-86ba-f385f3822d80"
      },
      "source": [
        "for number in range(1,101,20):   # change 101 by 102\n",
        "    print(number)"
      ],
      "execution_count": null,
      "outputs": [
        {
          "output_type": "stream",
          "text": [
            "1\n",
            "21\n",
            "41\n",
            "61\n",
            "81\n"
          ],
          "name": "stdout"
        }
      ]
    },
    {
      "cell_type": "code",
      "metadata": {
        "id": "QYezBlB1O6hL",
        "colab_type": "code",
        "colab": {},
        "outputId": "48375450-2f61-43d6-dbf3-13edd3d42de8"
      },
      "source": [
        "# Iterating Over Dictionaries\n",
        "d = {'x': 1, 'y': 2, 'z': 3}\n",
        "for key in d:\n",
        "    print(key, 'corresponds to', d[key])\n"
      ],
      "execution_count": null,
      "outputs": [
        {
          "output_type": "stream",
          "text": [
            "x corresponds to 1\n",
            "y corresponds to 2\n",
            "z corresponds to 3\n"
          ],
          "name": "stdout"
        }
      ]
    },
    {
      "cell_type": "code",
      "metadata": {
        "id": "z4mGqC6KO6hO",
        "colab_type": "code",
        "colab": {},
        "outputId": "80d4e135-fbd2-4f33-fcaf-60dd077d4730"
      },
      "source": [
        "# the better way\n",
        "for key, value in d.items():\n",
        "    print(key, 'corresponds to', value)"
      ],
      "execution_count": null,
      "outputs": [
        {
          "output_type": "stream",
          "text": [
            "x corresponds to 1\n",
            "y corresponds to 2\n",
            "z corresponds to 3\n"
          ],
          "name": "stdout"
        }
      ]
    },
    {
      "cell_type": "code",
      "metadata": {
        "id": "pjlX08-FO6hR",
        "colab_type": "code",
        "colab": {
          "base_uri": "https://localhost:8080/",
          "height": 84
        },
        "outputId": "082b78e5-8b98-42db-fc59-2db0abc9b25f"
      },
      "source": [
        "# Parallel Iterations between two lists\n",
        "names = ['anne', 'beth', 'george', 'damon']\n",
        "ages = [12, 45, 32, 102]\n",
        "i =0\n",
        "while i<len(names):\n",
        "    print(names[i], 'is', ages[i], 'years old')\n",
        "    i+=1"
      ],
      "execution_count": null,
      "outputs": [
        {
          "output_type": "stream",
          "text": [
            "anne is 12 years old\n",
            "beth is 45 years old\n",
            "george is 32 years old\n",
            "damon is 102 years old\n"
          ],
          "name": "stdout"
        }
      ]
    },
    {
      "cell_type": "code",
      "metadata": {
        "id": "gXAX2HaFO6hU",
        "colab_type": "code",
        "colab": {},
        "outputId": "bfc93152-bc20-45d1-af98-efdaa9bce305"
      },
      "source": [
        "# with for loop\n",
        "for i in range(len(names)):\n",
        "    print(names[i], 'is', ages[i], 'years old')"
      ],
      "execution_count": null,
      "outputs": [
        {
          "output_type": "stream",
          "text": [
            "anne is 12 years old\n",
            "beth is 45 years old\n",
            "george is 32 years old\n",
            "damon is 102 years old\n"
          ],
          "name": "stdout"
        }
      ]
    },
    {
      "cell_type": "code",
      "metadata": {
        "id": "BAPMxFXJ5GlR",
        "colab_type": "code",
        "colab": {
          "base_uri": "https://localhost:8080/",
          "height": 34
        },
        "outputId": "67bd5088-d04e-4f28-c918-175f1ba86cc9"
      },
      "source": [
        "zip(names,ages)"
      ],
      "execution_count": null,
      "outputs": [
        {
          "output_type": "execute_result",
          "data": {
            "text/plain": [
              "<zip at 0x7ffbb7f15848>"
            ]
          },
          "metadata": {
            "tags": []
          },
          "execution_count": 9
        }
      ]
    },
    {
      "cell_type": "code",
      "metadata": {
        "id": "YhQn9IvtO6hW",
        "colab_type": "code",
        "colab": {},
        "outputId": "9c7bf01b-b177-486d-f16f-271c7102f7e4"
      },
      "source": [
        "# the better way\n",
        "for name, age in zip(names, ages):\n",
        "    print(name, 'is', age, 'years old')"
      ],
      "execution_count": null,
      "outputs": [
        {
          "output_type": "stream",
          "text": [
            "anne is 12 years old\n",
            "beth is 45 years old\n",
            "george is 32 years old\n",
            "damon is 102 years old\n"
          ],
          "name": "stdout"
        }
      ]
    },
    {
      "cell_type": "code",
      "metadata": {
        "id": "nz98916VO6hZ",
        "colab_type": "code",
        "colab": {},
        "outputId": "ebdcdcf7-f490-441a-931b-d70e5c17f9b7"
      },
      "source": [
        "# what is zip: “zips” together the sequences, returning a sequence of tuples\n",
        "list(zip(names, ages))"
      ],
      "execution_count": null,
      "outputs": [
        {
          "output_type": "execute_result",
          "data": {
            "text/plain": [
              "[('anne', 12), ('beth', 45), ('george', 32), ('damon', 102)]"
            ]
          },
          "metadata": {
            "tags": []
          },
          "execution_count": 83
        }
      ]
    },
    {
      "cell_type": "code",
      "metadata": {
        "id": "7bTLp62jO6ha",
        "colab_type": "code",
        "colab": {},
        "outputId": "869b5c25-d329-4c55-afb5-03dfbacef998"
      },
      "source": [
        "# zip even works when sequence is of differet lengths too\n",
        "list(zip(range(5), range(100000000)))"
      ],
      "execution_count": null,
      "outputs": [
        {
          "output_type": "execute_result",
          "data": {
            "text/plain": [
              "[(0, 0), (1, 1), (2, 2), (3, 3), (4, 4)]"
            ]
          },
          "metadata": {
            "tags": []
          },
          "execution_count": 84
        }
      ]
    },
    {
      "cell_type": "code",
      "metadata": {
        "id": "_BGBe5_uO6hd",
        "colab_type": "code",
        "colab": {},
        "outputId": "59319517-1414-4561-fdc2-39b82e8133bf"
      },
      "source": [
        "# Numbered Iteration\n",
        "strings = \"Abhishek Singh Rathore Anuraj Ajay Amit Veer\".split()\n",
        "for string in strings:\n",
        "    if 'Anuraj' in string:\n",
        "        index = strings.index(string) # Search for the string in the list of strings\n",
        "        strings[index] = 'Icy'\n",
        "print(strings)"
      ],
      "execution_count": null,
      "outputs": [
        {
          "output_type": "stream",
          "text": [
            "['Abhishek', 'Singh', 'Rathore', 'Icy', 'Ajay', 'Amit', 'Veer']\n"
          ],
          "name": "stdout"
        }
      ]
    },
    {
      "cell_type": "code",
      "metadata": {
        "id": "WvJ-t8rmO6hh",
        "colab_type": "code",
        "colab": {},
        "outputId": "c384dc2e-22fc-4372-b21a-41eea396bb69"
      },
      "source": [
        "# easier way\n",
        "index = 0\n",
        "for string in strings:\n",
        "    if 'Veer' in string:\n",
        "        strings[index] = \"Hello_Veer\"\n",
        "        index += 1\n",
        "print(strings)"
      ],
      "execution_count": null,
      "outputs": [
        {
          "output_type": "stream",
          "text": [
            "['Hello_Veer', 'Singh', 'Rathore', 'Icy', 'Ajay', 'Amit', 'Veer']\n"
          ],
          "name": "stdout"
        }
      ]
    },
    {
      "cell_type": "code",
      "metadata": {
        "id": "0nlXK37qO6hj",
        "colab_type": "code",
        "colab": {},
        "outputId": "8848be59-8777-42a7-aa1b-90db0b4690c2"
      },
      "source": [
        "# Problem. Solution: iterate over index-value pairs\n",
        "strings = \"Abhishek Singh Rathore Anuraj Ajay Amit Veer\".split()\n",
        "for index, string in enumerate(strings):\n",
        "    if 'Veer' in string:\n",
        "        strings[index] = 'Hello_Veer'\n",
        "print(strings)"
      ],
      "execution_count": null,
      "outputs": [
        {
          "output_type": "stream",
          "text": [
            "['Abhishek', 'Singh', 'Rathore', 'Anuraj', 'Ajay', 'Amit', 'Hello_Veer']\n"
          ],
          "name": "stdout"
        }
      ]
    },
    {
      "cell_type": "code",
      "metadata": {
        "id": "gTgc3y0gO6hm",
        "colab_type": "code",
        "colab": {},
        "outputId": "126e65c7-b891-4fd8-824f-0de67d35cb30"
      },
      "source": [
        "#Reversed and Sorted Iteration: we will get list\n",
        "print(sorted([4, 3, 6, 8, 3]))\n",
        "print(sorted('Hello, world!'))\n"
      ],
      "execution_count": null,
      "outputs": [
        {
          "output_type": "stream",
          "text": [
            "[3, 3, 4, 6, 8]\n",
            "[' ', '!', ',', 'H', 'd', 'e', 'l', 'l', 'l', 'o', 'o', 'r', 'w']\n"
          ],
          "name": "stdout"
        }
      ]
    },
    {
      "cell_type": "code",
      "metadata": {
        "id": "CDhbz9KaO6hp",
        "colab_type": "code",
        "colab": {},
        "outputId": "02b5a556-8f7b-42f7-c6f3-814fcde237e2"
      },
      "source": [
        "# Reverse a String\n",
        "print(list(reversed('Hello, world!')))\n",
        "print(''.join(reversed('Hello, world!')))"
      ],
      "execution_count": null,
      "outputs": [
        {
          "output_type": "stream",
          "text": [
            "['!', 'd', 'l', 'r', 'o', 'w', ' ', ',', 'o', 'l', 'l', 'e', 'H']\n",
            "!dlrow ,olleH\n"
          ],
          "name": "stdout"
        }
      ]
    },
    {
      "cell_type": "code",
      "metadata": {
        "id": "JaOx0a6QO6hr",
        "colab_type": "code",
        "colab": {},
        "outputId": "b10c1583-6af7-451e-f453-aac7d146fa25"
      },
      "source": [
        "# Breaking loop\n",
        "from math import sqrt\n",
        "for n in range(99, 0, -1):\n",
        "    root = sqrt(n)\n",
        "    if root == int(root):\n",
        "        print(n)\n",
        "        break"
      ],
      "execution_count": null,
      "outputs": [
        {
          "output_type": "stream",
          "text": [
            "81\n"
          ],
          "name": "stdout"
        }
      ]
    },
    {
      "cell_type": "code",
      "metadata": {
        "id": "XnRxP-l7O6hu",
        "colab_type": "code",
        "colab": {}
      },
      "source": [
        "# continue"
      ],
      "execution_count": null,
      "outputs": []
    },
    {
      "cell_type": "code",
      "metadata": {
        "id": "V5oGGdmqO6hx",
        "colab_type": "code",
        "colab": {},
        "outputId": "be254d55-a856-4082-c21a-a847773bbf76"
      },
      "source": [
        "# else Clauses in Loops\n",
        "from math import sqrt\n",
        "for n in range(99, 81, -1):\n",
        "    root = sqrt(n)\n",
        "    if root == int(root):\n",
        "        print(n)\n",
        "        break\n",
        "else:                                 # check when this else is matched with if\n",
        "        print(\"Didn't find it!\")"
      ],
      "execution_count": null,
      "outputs": [
        {
          "output_type": "stream",
          "text": [
            "Didn't find it!\n"
          ],
          "name": "stdout"
        }
      ]
    },
    {
      "cell_type": "code",
      "metadata": {
        "id": "zqe_UeDeO6hz",
        "colab_type": "code",
        "colab": {},
        "outputId": "20fbfbef-9913-4f14-af2c-338c34d4b2b8"
      },
      "source": [
        "# List comprehensions\n",
        "[x * x for x in range(10)]"
      ],
      "execution_count": null,
      "outputs": [
        {
          "output_type": "execute_result",
          "data": {
            "text/plain": [
              "[0, 1, 4, 9, 16, 25, 36, 49, 64, 81]"
            ]
          },
          "metadata": {
            "tags": []
          },
          "execution_count": 112
        }
      ]
    },
    {
      "cell_type": "code",
      "metadata": {
        "id": "aEuidubgO6h3",
        "colab_type": "code",
        "colab": {},
        "outputId": "e8bb99fd-b27b-41a9-bff3-46f110c1a45b"
      },
      "source": [
        "[x*x for x in range(10) if x % 3 == 0]"
      ],
      "execution_count": null,
      "outputs": [
        {
          "output_type": "execute_result",
          "data": {
            "text/plain": [
              "[0, 9, 36, 81]"
            ]
          },
          "metadata": {
            "tags": []
          },
          "execution_count": 113
        }
      ]
    },
    {
      "cell_type": "code",
      "metadata": {
        "id": "B1LBx8l2O6h5",
        "colab_type": "code",
        "colab": {},
        "outputId": "f1fedd7b-1657-47e8-a01a-7b26943d769d"
      },
      "source": [
        "# more for\n",
        "[(x, y, z) for x in range(2) for y in range(2) for z in range(2)]"
      ],
      "execution_count": null,
      "outputs": [
        {
          "output_type": "execute_result",
          "data": {
            "text/plain": [
              "[(0, 0, 0),\n",
              " (0, 0, 1),\n",
              " (0, 1, 0),\n",
              " (0, 1, 1),\n",
              " (1, 0, 0),\n",
              " (1, 0, 1),\n",
              " (1, 1, 0),\n",
              " (1, 1, 1)]"
            ]
          },
          "metadata": {
            "tags": []
          },
          "execution_count": 115
        }
      ]
    },
    {
      "cell_type": "code",
      "metadata": {
        "id": "Spm13FI0O6h6",
        "colab_type": "code",
        "colab": {}
      },
      "source": [
        "result = []\n",
        "for x in range(2):\n",
        "    for y in range(2):\n",
        "        for z in range(2):\n",
        "            result.append((x, y, z))"
      ],
      "execution_count": null,
      "outputs": []
    },
    {
      "cell_type": "code",
      "metadata": {
        "id": "as1uCDmnO6h8",
        "colab_type": "code",
        "colab": {},
        "outputId": "ca917f5b-233e-471b-99b2-41ad15f93f03"
      },
      "source": [
        "print(result)"
      ],
      "execution_count": null,
      "outputs": [
        {
          "output_type": "stream",
          "text": [
            "[(0, 0, 0), (0, 0, 1), (0, 1, 0), (0, 1, 1), (1, 0, 0), (1, 0, 1), (1, 1, 0), (1, 1, 1)]\n"
          ],
          "name": "stdout"
        }
      ]
    },
    {
      "cell_type": "code",
      "metadata": {
        "id": "9NIfeLijO6h9",
        "colab_type": "code",
        "colab": {},
        "outputId": "18d4633e-139e-4dfd-f351-09f6adc4f696"
      },
      "source": [
        "# Make a pair, with first character of both girls and boys\n",
        "girls = ['alice', 'bernice', 'clarice']\n",
        "boys = ['chris', 'arnold', 'bob']\n",
        "[b+'+'+g for b in boys for g in girls if b[0] == g[0]]"
      ],
      "execution_count": null,
      "outputs": [
        {
          "output_type": "execute_result",
          "data": {
            "text/plain": [
              "['chris+clarice', 'arnold+alice', 'bob+bernice']"
            ]
          },
          "metadata": {
            "tags": []
          },
          "execution_count": 118
        }
      ]
    },
    {
      "cell_type": "code",
      "metadata": {
        "id": "Z_3jsFFxO6h_",
        "colab_type": "code",
        "colab": {},
        "outputId": "8538f72f-4f5f-4232-d564-957f7459b25d"
      },
      "source": [
        "#Dictionary Comprehension\n",
        "squares = {i:\"{} squared is {}\".format(i, i**2) for i in range(10)}\n",
        "print(squares)"
      ],
      "execution_count": null,
      "outputs": [
        {
          "output_type": "stream",
          "text": [
            "{0: '0 squared is 0', 1: '1 squared is 1', 2: '2 squared is 4', 3: '3 squared is 9', 4: '4 squared is 16', 5: '5 squared is 25', 6: '6 squared is 36', 7: '7 squared is 49', 8: '8 squared is 64', 9: '9 squared is 81'}\n"
          ],
          "name": "stdout"
        }
      ]
    },
    {
      "cell_type": "code",
      "metadata": {
        "id": "E15yaMFLO6iA",
        "colab_type": "code",
        "colab": {},
        "outputId": "95216b4c-472d-4bf6-c770-75b7303e79fe"
      },
      "source": [
        "squares[8]"
      ],
      "execution_count": null,
      "outputs": [
        {
          "output_type": "execute_result",
          "data": {
            "text/plain": [
              "'8 squared is 64'"
            ]
          },
          "metadata": {
            "tags": []
          },
          "execution_count": 5
        }
      ]
    },
    {
      "cell_type": "code",
      "metadata": {
        "id": "7FdhsdGjO6iC",
        "colab_type": "code",
        "colab": {},
        "outputId": "542285a9-b9cd-48f5-b281-8131ed5b5dc7"
      },
      "source": [
        "#Nothing Happened\n",
        "# pass\n",
        "for i in range(0,10):\n",
        "    if i%2==0:\n",
        "        pass\n",
        "    else:\n",
        "        print(i)"
      ],
      "execution_count": null,
      "outputs": [
        {
          "output_type": "stream",
          "text": [
            "1\n",
            "3\n",
            "5\n",
            "7\n",
            "9\n"
          ],
          "name": "stdout"
        }
      ]
    },
    {
      "cell_type": "code",
      "metadata": {
        "id": "A_LDbQ5SO6iD",
        "colab_type": "code",
        "colab": {},
        "outputId": "306d5875-6880-4333-b2ce-523cd4811d76"
      },
      "source": [
        "# Deleting with del\n",
        "scoundrel = {'age': 42, 'first name': 'Robin', 'last name': 'of Locksley'}\n",
        "robin = scoundrel\n",
        "scoundrel"
      ],
      "execution_count": null,
      "outputs": [
        {
          "output_type": "execute_result",
          "data": {
            "text/plain": [
              "{'age': 42, 'first name': 'Robin', 'last name': 'of Locksley'}"
            ]
          },
          "metadata": {
            "tags": []
          },
          "execution_count": 9
        }
      ]
    },
    {
      "cell_type": "code",
      "metadata": {
        "id": "t2swfY-3O6iF",
        "colab_type": "code",
        "colab": {},
        "outputId": "e1155675-6c94-4a04-ab0c-2c14093ce24e"
      },
      "source": [
        "robin = None\n",
        "print(robin)"
      ],
      "execution_count": null,
      "outputs": [
        {
          "output_type": "stream",
          "text": [
            "None\n"
          ],
          "name": "stdout"
        }
      ]
    },
    {
      "cell_type": "code",
      "metadata": {
        "id": "ESmv0s7_O6iH",
        "colab_type": "code",
        "colab": {},
        "outputId": "6ffe9c66-47f4-4215-c042-934d27a628b5"
      },
      "source": [
        "print(scoundrel)"
      ],
      "execution_count": null,
      "outputs": [
        {
          "output_type": "stream",
          "text": [
            "{'age': 42, 'first name': 'Robin', 'last name': 'of Locksley'}\n"
          ],
          "name": "stdout"
        }
      ]
    },
    {
      "cell_type": "code",
      "metadata": {
        "id": "wqVZSjJaO6iJ",
        "colab_type": "code",
        "colab": {}
      },
      "source": [
        "scoundrel = None\n",
        "# {'age': 42, 'first name': 'Robin', 'last name': 'of Locksley'} is still available in memory\n"
      ],
      "execution_count": null,
      "outputs": []
    },
    {
      "cell_type": "code",
      "metadata": {
        "id": "FQEjUMnKO6iK",
        "colab_type": "code",
        "colab": {},
        "outputId": "bbcc9b5c-aeaa-4898-cb5c-7aa86049104d"
      },
      "source": [
        "# Therefore, delete the object\n",
        "x= 1\n",
        "del x\n",
        "print(x)"
      ],
      "execution_count": null,
      "outputs": [
        {
          "output_type": "error",
          "ename": "NameError",
          "evalue": "name 'x' is not defined",
          "traceback": [
            "\u001b[1;31m---------------------------------------------------------------------------\u001b[0m",
            "\u001b[1;31mNameError\u001b[0m                                 Traceback (most recent call last)",
            "\u001b[1;32m<ipython-input-14-87447fe21308>\u001b[0m in \u001b[0;36m<module>\u001b[1;34m\u001b[0m\n\u001b[0;32m      2\u001b[0m \u001b[0mx\u001b[0m\u001b[1;33m=\u001b[0m \u001b[1;36m1\u001b[0m\u001b[1;33m\u001b[0m\u001b[1;33m\u001b[0m\u001b[0m\n\u001b[0;32m      3\u001b[0m \u001b[1;32mdel\u001b[0m \u001b[0mx\u001b[0m\u001b[1;33m\u001b[0m\u001b[1;33m\u001b[0m\u001b[0m\n\u001b[1;32m----> 4\u001b[1;33m \u001b[0mprint\u001b[0m\u001b[1;33m(\u001b[0m\u001b[0mx\u001b[0m\u001b[1;33m)\u001b[0m\u001b[1;33m\u001b[0m\u001b[1;33m\u001b[0m\u001b[0m\n\u001b[0m",
            "\u001b[1;31mNameError\u001b[0m: name 'x' is not defined"
          ]
        }
      ]
    },
    {
      "cell_type": "code",
      "metadata": {
        "id": "Fqpd57z4O6iM",
        "colab_type": "code",
        "colab": {},
        "outputId": "0fb0aeea-6264-42a0-b0a0-90bbc5da99b8"
      },
      "source": [
        "x = [\"hello\",\"world\"]\n",
        "y =x\n",
        "y[1] = \"Python\"\n",
        "print(x)"
      ],
      "execution_count": null,
      "outputs": [
        {
          "output_type": "stream",
          "text": [
            "['hello', 'Python']\n"
          ],
          "name": "stdout"
        }
      ]
    },
    {
      "cell_type": "code",
      "metadata": {
        "id": "Af0se1-UO6iN",
        "colab_type": "code",
        "colab": {},
        "outputId": "b5cf71d4-3c71-4986-bf23-091f3d38ce4a"
      },
      "source": [
        "del x\n",
        "print(y)"
      ],
      "execution_count": null,
      "outputs": [
        {
          "output_type": "stream",
          "text": [
            "['hello', 'Python']\n"
          ],
          "name": "stdout"
        }
      ]
    },
    {
      "cell_type": "code",
      "metadata": {
        "id": "Ir9qrJ_KO6iP",
        "colab_type": "code",
        "colab": {},
        "outputId": "12854eac-7760-46b4-ab52-437b4f8f6077"
      },
      "source": [
        "# exec The exec function is used to execute a string\n",
        "exec(\"print('Hello World')\")"
      ],
      "execution_count": null,
      "outputs": [
        {
          "output_type": "stream",
          "text": [
            "Hello World\n"
          ],
          "name": "stdout"
        }
      ]
    },
    {
      "cell_type": "code",
      "metadata": {
        "id": "GfW7jg5tO6iT",
        "colab_type": "code",
        "colab": {},
        "outputId": "9e9e023b-1785-4e9b-947d-884ec2d9046b"
      },
      "source": [
        "from math import sqrt\n",
        "exec(\"sqrt = 4\")\n",
        "sqrt"
      ],
      "execution_count": null,
      "outputs": [
        {
          "output_type": "execute_result",
          "data": {
            "text/plain": [
              "4"
            ]
          },
          "metadata": {
            "tags": []
          },
          "execution_count": 23
        }
      ]
    },
    {
      "cell_type": "code",
      "metadata": {
        "id": "XH9gbhoVO6iV",
        "colab_type": "code",
        "colab": {},
        "outputId": "a5f39d7b-705d-49af-a171-fb1c42ca8350"
      },
      "source": [
        "sqrt(4)"
      ],
      "execution_count": null,
      "outputs": [
        {
          "output_type": "error",
          "ename": "TypeError",
          "evalue": "'int' object is not callable",
          "traceback": [
            "\u001b[1;31m---------------------------------------------------------------------------\u001b[0m",
            "\u001b[1;31mTypeError\u001b[0m                                 Traceback (most recent call last)",
            "\u001b[1;32m<ipython-input-24-317e033d29d5>\u001b[0m in \u001b[0;36m<module>\u001b[1;34m\u001b[0m\n\u001b[1;32m----> 1\u001b[1;33m \u001b[0msqrt\u001b[0m\u001b[1;33m(\u001b[0m\u001b[1;36m4\u001b[0m\u001b[1;33m)\u001b[0m\u001b[1;33m\u001b[0m\u001b[1;33m\u001b[0m\u001b[0m\n\u001b[0m",
            "\u001b[1;31mTypeError\u001b[0m: 'int' object is not callable"
          ]
        }
      ]
    },
    {
      "cell_type": "code",
      "metadata": {
        "id": "oHxkWrClO6iX",
        "colab_type": "code",
        "colab": {},
        "outputId": "86c8e634-8798-4bf0-ca5c-4783647e51c6"
      },
      "source": [
        "from math import sqrt\n",
        "scope = {}\n",
        "exec('sqrt = 1', scope)\n",
        "sqrt(4)\n",
        "scope['sqrt']"
      ],
      "execution_count": null,
      "outputs": [
        {
          "output_type": "execute_result",
          "data": {
            "text/plain": [
              "1"
            ]
          },
          "metadata": {
            "tags": []
          },
          "execution_count": 25
        }
      ]
    },
    {
      "cell_type": "code",
      "metadata": {
        "id": "orCRmdpeO6iZ",
        "colab_type": "code",
        "colab": {},
        "outputId": "2dc9b50b-e134-4c68-a9c8-e812377e5c5a"
      },
      "source": [
        "sqrt(4)"
      ],
      "execution_count": null,
      "outputs": [
        {
          "output_type": "execute_result",
          "data": {
            "text/plain": [
              "2.0"
            ]
          },
          "metadata": {
            "tags": []
          },
          "execution_count": 26
        }
      ]
    },
    {
      "cell_type": "code",
      "metadata": {
        "id": "ouRYlxWgO6ib",
        "colab_type": "code",
        "colab": {},
        "outputId": "f2d822c1-e454-4a83-abea-b9282ac7a320"
      },
      "source": [
        "sqrt"
      ],
      "execution_count": null,
      "outputs": [
        {
          "output_type": "execute_result",
          "data": {
            "text/plain": [
              "<function math.sqrt(x, /)>"
            ]
          },
          "metadata": {
            "tags": []
          },
          "execution_count": 27
        }
      ]
    },
    {
      "cell_type": "code",
      "metadata": {
        "id": "6NxCY3VBO6id",
        "colab_type": "code",
        "colab": {},
        "outputId": "0ebcdf81-28be-491a-bece-28ff908e524f"
      },
      "source": [
        "#Evaluate\n",
        "eval(input(\"Enter an arithmetic expression: \"))"
      ],
      "execution_count": null,
      "outputs": [
        {
          "output_type": "stream",
          "text": [
            "Enter an arithmetic expression:  6+4*2\n"
          ],
          "name": "stdin"
        },
        {
          "output_type": "execute_result",
          "data": {
            "text/plain": [
              "14"
            ]
          },
          "metadata": {
            "tags": []
          },
          "execution_count": 28
        }
      ]
    },
    {
      "cell_type": "code",
      "metadata": {
        "id": "4kf3vwyDO6if",
        "colab_type": "code",
        "colab": {},
        "outputId": "d8898f79-f7cf-48da-9464-4150ef5d3716"
      },
      "source": [
        "scope = {}\n",
        "scope['x'] = 2\n",
        "scope['y'] = 3\n",
        "eval('x * y', scope)"
      ],
      "execution_count": null,
      "outputs": [
        {
          "output_type": "execute_result",
          "data": {
            "text/plain": [
              "6"
            ]
          },
          "metadata": {
            "tags": []
          },
          "execution_count": 29
        }
      ]
    },
    {
      "cell_type": "code",
      "metadata": {
        "id": "qICWKiitO6ih",
        "colab_type": "code",
        "colab": {},
        "outputId": "92cba343-2e8d-4df6-de35-063282dc51bf"
      },
      "source": [
        "scope = {}\n",
        "exec('x = 2', scope)\n",
        "eval('x * x', scope)"
      ],
      "execution_count": null,
      "outputs": [
        {
          "output_type": "execute_result",
          "data": {
            "text/plain": [
              "4"
            ]
          },
          "metadata": {
            "tags": []
          },
          "execution_count": 30
        }
      ]
    },
    {
      "cell_type": "code",
      "metadata": {
        "id": "-MU9ZUR8O6ij",
        "colab_type": "code",
        "colab": {}
      },
      "source": [
        ""
      ],
      "execution_count": null,
      "outputs": []
    }
  ]
}