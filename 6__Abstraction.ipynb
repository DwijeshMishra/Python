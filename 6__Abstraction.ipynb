{
  "nbformat": 4,
  "nbformat_minor": 0,
  "metadata": {
    "kernelspec": {
      "display_name": "Python 3",
      "language": "python",
      "name": "python3"
    },
    "language_info": {
      "codemirror_mode": {
        "name": "ipython",
        "version": 3
      },
      "file_extension": ".py",
      "mimetype": "text/x-python",
      "name": "python",
      "nbconvert_exporter": "python",
      "pygments_lexer": "ipython3",
      "version": "3.7.3"
    },
    "colab": {
      "name": "6__Abstraction.ipynb",
      "provenance": [],
      "include_colab_link": true
    }
  },
  "cells": [
    {
      "cell_type": "markdown",
      "metadata": {
        "id": "view-in-github",
        "colab_type": "text"
      },
      "source": [
        "<a href=\"https://colab.research.google.com/github/abhishekatujjain/Python/blob/master/6__Abstraction.ipynb\" target=\"_parent\"><img src=\"https://colab.research.google.com/assets/colab-badge.svg\" alt=\"Open In Colab\"/></a>"
      ]
    },
    {
      "cell_type": "code",
      "metadata": {
        "id": "gcSECyI71F18",
        "outputId": "68c7d31d-76f8-42bd-dcf2-5a85f2ced61e",
        "colab": {
          "base_uri": "https://localhost:8080/",
          "height": 34
        }
      },
      "source": [
        "# Laziness Is a Virtue\n",
        "fibs = [0, 1]\n",
        "for i in range(8):\n",
        "    fibs.append(fibs[-2] + fibs[-1])\n",
        "fibs"
      ],
      "execution_count": null,
      "outputs": [
        {
          "output_type": "execute_result",
          "data": {
            "text/plain": [
              "[0, 1, 1, 2, 3, 5, 8, 13, 21, 34]"
            ]
          },
          "metadata": {
            "tags": []
          },
          "execution_count": 1
        }
      ]
    },
    {
      "cell_type": "code",
      "metadata": {
        "id": "F60_rdj81F1_"
      },
      "source": [
        "fibs = [0, 1]\n",
        "for i in range(8):\n",
        "    fibs.append(fibs[i-2] + fibs[i-1])"
      ],
      "execution_count": null,
      "outputs": []
    },
    {
      "cell_type": "code",
      "metadata": {
        "id": "2hCeYFPe1F2C",
        "outputId": "58317451-8082-4bc1-da4c-a4d5e00a492e"
      },
      "source": [
        "fibs"
      ],
      "execution_count": null,
      "outputs": [
        {
          "output_type": "execute_result",
          "data": {
            "text/plain": [
              "[0, 1, 1, 1, 1, 2, 2, 2, 3, 4]"
            ]
          },
          "metadata": {
            "tags": []
          },
          "execution_count": 4
        }
      ]
    },
    {
      "cell_type": "code",
      "metadata": {
        "id": "xghw3qYR1F2F",
        "outputId": "6f273808-8534-4a5c-99d4-5bd458faeed0"
      },
      "source": [
        "\n",
        "# you can tell whether something is callable or not with the built-in function callable\n",
        "import math\n",
        "x =1\n",
        "y = math.sqrt\n",
        "print(callable(x))\n",
        "print(callable(y))"
      ],
      "execution_count": null,
      "outputs": [
        {
          "output_type": "stream",
          "text": [
            "False\n",
            "True\n"
          ],
          "name": "stdout"
        }
      ]
    },
    {
      "cell_type": "code",
      "metadata": {
        "id": "R7kdJxhT1F2H",
        "outputId": "6408de0e-5c0a-4044-8583-09fef472b398"
      },
      "source": [
        "# creating your own function\n",
        "def hello(name):\n",
        "    return 'Hello, ' + name + '!'\n",
        "\n",
        "print(hello(\"Abhishek\"))\n"
      ],
      "execution_count": null,
      "outputs": [
        {
          "output_type": "execute_result",
          "data": {
            "text/plain": [
              "'Hello, Abhishek!'"
            ]
          },
          "metadata": {
            "tags": []
          },
          "execution_count": 5
        }
      ]
    },
    {
      "cell_type": "code",
      "metadata": {
        "id": "q2ijL60v1F2J",
        "outputId": "53669836-e072-4705-ca95-796cda658b02"
      },
      "source": [
        "def fibs(num):\n",
        "    result = [0, 1]\n",
        "    for i in range(num-2):\n",
        "        result.append(result[-2] + result[-1])\n",
        "    return result\n",
        "\n",
        "fibs(15)\n"
      ],
      "execution_count": null,
      "outputs": [
        {
          "output_type": "execute_result",
          "data": {
            "text/plain": [
              "[0, 1, 1, 2, 3, 5, 8, 13, 21, 34, 55, 89, 144, 233, 377]"
            ]
          },
          "metadata": {
            "tags": []
          },
          "execution_count": 7
        }
      ]
    },
    {
      "cell_type": "code",
      "metadata": {
        "id": "75CzyKc01F2M"
      },
      "source": [
        "# docstring: help of function\n",
        "def square(x):\n",
        "    'Calculates the square of the number x.'\n",
        "    return x * x"
      ],
      "execution_count": null,
      "outputs": []
    },
    {
      "cell_type": "code",
      "metadata": {
        "id": "Njav1BxD1F2O",
        "outputId": "f43d2ce5-0481-4002-867a-45d28521e424",
        "colab": {
          "base_uri": "https://localhost:8080/",
          "height": 35
        }
      },
      "source": [
        "square.__doc__      "
      ],
      "execution_count": null,
      "outputs": [
        {
          "output_type": "execute_result",
          "data": {
            "application/vnd.google.colaboratory.intrinsic+json": {
              "type": "string"
            },
            "text/plain": [
              "'Calculates the square of the number x.'"
            ]
          },
          "metadata": {
            "tags": []
          },
          "execution_count": 2
        }
      ]
    },
    {
      "cell_type": "code",
      "metadata": {
        "id": "SePALk-q1F2Q"
      },
      "source": [
        "def square1(x):\n",
        "    #Calculates the square of the number x.\n",
        "    return x * x"
      ],
      "execution_count": null,
      "outputs": []
    },
    {
      "cell_type": "code",
      "metadata": {
        "id": "0G68pOVu1F2S"
      },
      "source": [
        "square1.__doc__"
      ],
      "execution_count": null,
      "outputs": []
    },
    {
      "cell_type": "code",
      "metadata": {
        "id": "DcHLEOd_1F2U",
        "outputId": "91bb3459-76f7-4cf3-fe11-d51f01b3e555",
        "colab": {
          "base_uri": "https://localhost:8080/",
          "height": 101
        }
      },
      "source": [
        "help(square)"
      ],
      "execution_count": null,
      "outputs": [
        {
          "output_type": "stream",
          "text": [
            "Help on function square in module __main__:\n",
            "\n",
            "square(x)\n",
            "    Calculates the square of the number x.\n",
            "\n"
          ],
          "name": "stdout"
        }
      ]
    },
    {
      "cell_type": "code",
      "metadata": {
        "id": "U5DAM4JM1F2W",
        "outputId": "e24b9d7a-882f-41ed-d49c-c5503e05bc8e"
      },
      "source": [
        "help(square1)"
      ],
      "execution_count": null,
      "outputs": [
        {
          "output_type": "stream",
          "text": [
            "Help on function square1 in module __main__:\n",
            "\n",
            "square1(x)\n",
            "\n"
          ],
          "name": "stdout"
        }
      ]
    },
    {
      "cell_type": "code",
      "metadata": {
        "id": "XU3OOxiV1F2Y"
      },
      "source": [
        "def a():\n",
        "    print(\"abhishek\")"
      ],
      "execution_count": null,
      "outputs": []
    },
    {
      "cell_type": "code",
      "metadata": {
        "id": "e2uPP0D-1F2a",
        "outputId": "ccbab352-5e9e-4a7c-e34d-ec2b1b7265d3"
      },
      "source": [
        "a()"
      ],
      "execution_count": null,
      "outputs": [
        {
          "output_type": "stream",
          "text": [
            "abhishek\n"
          ],
          "name": "stdout"
        }
      ]
    },
    {
      "cell_type": "code",
      "metadata": {
        "id": "t1tixsw41F2e"
      },
      "source": [
        "# Is the above one a function\n",
        "# No its a proceducre, syntax are same, but it does not return any thing\n",
        "# Another example of procedure\n",
        "def test():\n",
        "    print('This is printed')\n",
        "    return"
      ],
      "execution_count": null,
      "outputs": []
    },
    {
      "cell_type": "code",
      "metadata": {
        "id": "dO-M8cwt1F2g",
        "outputId": "107b7867-b8bf-4b61-eedb-f59bde29c467"
      },
      "source": [
        "x = test()"
      ],
      "execution_count": null,
      "outputs": [
        {
          "output_type": "stream",
          "text": [
            "This is printed\n"
          ],
          "name": "stdout"
        }
      ]
    },
    {
      "cell_type": "code",
      "metadata": {
        "id": "ZU28Q83m1F2i",
        "outputId": "d83f480b-e2e3-40d2-87a3-30de4bfef804"
      },
      "source": [
        "print(x)"
      ],
      "execution_count": null,
      "outputs": [
        {
          "output_type": "stream",
          "text": [
            "None\n"
          ],
          "name": "stdout"
        }
      ]
    },
    {
      "cell_type": "code",
      "metadata": {
        "id": "KvBRZkdK1F2k",
        "outputId": "223d78d0-ebab-4f11-cfa5-16e2a4315bd1"
      },
      "source": [
        "# changing the parameters\n",
        "def changeparam(n):\n",
        "    n = \"Abhishek\"\n",
        "    return n\n",
        "\n",
        "name = 'Anuraj'\n",
        "print(changeparam(name))\n",
        "print(name)"
      ],
      "execution_count": null,
      "outputs": [
        {
          "output_type": "stream",
          "text": [
            "Abhishek\n",
            "Anuraj\n"
          ],
          "name": "stdout"
        }
      ]
    },
    {
      "cell_type": "code",
      "metadata": {
        "id": "SXHPV4i01F2n",
        "outputId": "58cba95b-33c2-415f-b695-f5106982a395"
      },
      "source": [
        "name   #strings are immutable, but lists are not; change it to list"
      ],
      "execution_count": null,
      "outputs": [
        {
          "output_type": "execute_result",
          "data": {
            "text/plain": [
              "'Anuraj'"
            ]
          },
          "metadata": {
            "tags": []
          },
          "execution_count": 26
        }
      ]
    },
    {
      "cell_type": "code",
      "metadata": {
        "id": "ABSqd_VL1F2p",
        "outputId": "9160217f-6ee0-45fb-9041-be1649d262f3",
        "colab": {
          "base_uri": "https://localhost:8080/",
          "height": 50
        }
      },
      "source": [
        "def change(n):\n",
        "    n[0] = 'Dr. Abhishek'\n",
        "    return n[0]\n",
        "\n",
        "names = ['@TheASR', 'Anuraj']\n",
        "print(change(names))\n",
        "print(names)"
      ],
      "execution_count": null,
      "outputs": [
        {
          "output_type": "stream",
          "text": [
            "Dr. Abhishek\n",
            "['Dr. Abhishek', 'Anuraj']\n"
          ],
          "name": "stdout"
        }
      ]
    },
    {
      "cell_type": "code",
      "metadata": {
        "id": "4Nr6v-541F2r"
      },
      "source": [
        "def hello_1(greeting, name):\n",
        "    print('{}, {}!'.format(greeting, name))\n",
        "def hello_2(name, greeting):\n",
        "    print('{}, {}!'.format(name, greeting))"
      ],
      "execution_count": null,
      "outputs": []
    },
    {
      "cell_type": "code",
      "metadata": {
        "id": "f3_B37Mj1F2t",
        "outputId": "1d9f399b-895b-4cfd-b6f8-5401264ab6ca"
      },
      "source": [
        "hello_1(\"hello\",\"world\")\n",
        "hello_2(\"hello\",\"world\")"
      ],
      "execution_count": null,
      "outputs": [
        {
          "output_type": "stream",
          "text": [
            "hello, world!\n",
            "hello, world!\n"
          ],
          "name": "stdout"
        }
      ]
    },
    {
      "cell_type": "code",
      "metadata": {
        "id": "eJxIuRsM1F2v",
        "outputId": "9ed0b8ff-f156-43d6-ce0a-3a777c9eb0fb"
      },
      "source": [
        "hello_1(greeting='Hello', name='world')"
      ],
      "execution_count": null,
      "outputs": [
        {
          "output_type": "stream",
          "text": [
            "Hello, world!\n"
          ],
          "name": "stdout"
        }
      ]
    },
    {
      "cell_type": "code",
      "metadata": {
        "id": "x12Zo3XJ1F2x",
        "outputId": "f595ef46-7f4a-464d-cd10-2cb4d1b9f008"
      },
      "source": [
        "hello_2(greeting='Hello', name='world')"
      ],
      "execution_count": null,
      "outputs": [
        {
          "output_type": "stream",
          "text": [
            "world, Hello!\n"
          ],
          "name": "stdout"
        }
      ]
    },
    {
      "cell_type": "code",
      "metadata": {
        "id": "qi68lNCb1F2z"
      },
      "source": [
        "def hello_3(greeting='Hello', name='world'):\n",
        "    print('{}, {}!'.format(greeting, name))"
      ],
      "execution_count": null,
      "outputs": []
    },
    {
      "cell_type": "code",
      "metadata": {
        "id": "bq4GEHhS1F21",
        "outputId": "573cc9bf-aa31-48d1-acfa-ee0e049931a6"
      },
      "source": [
        "hello_3()"
      ],
      "execution_count": null,
      "outputs": [
        {
          "output_type": "stream",
          "text": [
            "Hello, world!\n"
          ],
          "name": "stdout"
        }
      ]
    },
    {
      "cell_type": "code",
      "metadata": {
        "id": "4ZT8xgQ01F23",
        "outputId": "8c543208-9039-4c88-81c6-092cf1ac42ae"
      },
      "source": [
        "hello_3(\"Hi\",\"dear\")"
      ],
      "execution_count": null,
      "outputs": [
        {
          "output_type": "stream",
          "text": [
            "Hi, dear!\n"
          ],
          "name": "stdout"
        }
      ]
    },
    {
      "cell_type": "code",
      "metadata": {
        "id": "i45MuRI01F25",
        "outputId": "52b0fa7f-47bb-44ff-d308-482367c68c66"
      },
      "source": [
        "hello_3(\"dear\") # by default first parameter"
      ],
      "execution_count": null,
      "outputs": [
        {
          "output_type": "stream",
          "text": [
            "dear, world!\n"
          ],
          "name": "stdout"
        }
      ]
    },
    {
      "cell_type": "code",
      "metadata": {
        "id": "QR_Irwk01F26",
        "outputId": "3abdf0ef-9243-46d3-e136-5c26e941a55d"
      },
      "source": [
        "hello_3(name=\"Abhishek\") # other than first param, specify name of param"
      ],
      "execution_count": null,
      "outputs": [
        {
          "output_type": "stream",
          "text": [
            "Hello, Abhishek!\n"
          ],
          "name": "stdout"
        }
      ]
    },
    {
      "cell_type": "code",
      "metadata": {
        "id": "dziPsnkX1F28"
      },
      "source": [
        "# Collecting parameters: Any number of parameters\n",
        "def print_params(*params):\n",
        "    print(params)"
      ],
      "execution_count": null,
      "outputs": []
    },
    {
      "cell_type": "code",
      "metadata": {
        "id": "eY1M8qvv1F2-",
        "outputId": "80fc6f61-83e3-42fb-93dd-e9aeaa069a62"
      },
      "source": [
        "print_params('Testing')\n",
        "print_params('Testing','hello')\n",
        "print_params(1, 2, 3)"
      ],
      "execution_count": null,
      "outputs": [
        {
          "output_type": "stream",
          "text": [
            "('Testing',)\n",
            "('Testing', 'hello')\n",
            "(1, 2, 3)\n"
          ],
          "name": "stdout"
        }
      ]
    },
    {
      "cell_type": "code",
      "metadata": {
        "id": "8gRWO41w1F3A"
      },
      "source": [
        "def print_params_2(title, *params):\n",
        "    print(title)\n",
        "    print(params)"
      ],
      "execution_count": null,
      "outputs": []
    },
    {
      "cell_type": "code",
      "metadata": {
        "id": "6djQsIPs1F3C",
        "outputId": "089cce70-c578-4935-dc7d-69fc2f83f0ad"
      },
      "source": [
        "print_params_2('Params:', 1, 2, 3)"
      ],
      "execution_count": null,
      "outputs": [
        {
          "output_type": "stream",
          "text": [
            "Params:\n",
            "(1, 2, 3)\n"
          ],
          "name": "stdout"
        }
      ]
    },
    {
      "cell_type": "code",
      "metadata": {
        "id": "1qvF7Erb1F3E",
        "outputId": "d395f3f5-4304-488b-b69e-8b5ed16cb1b2"
      },
      "source": [
        "print_params_2('Nothing:')"
      ],
      "execution_count": null,
      "outputs": [
        {
          "output_type": "stream",
          "text": [
            "Nothing:\n",
            "()\n"
          ],
          "name": "stdout"
        }
      ]
    },
    {
      "cell_type": "code",
      "metadata": {
        "id": "cIQY6g4M1F3F"
      },
      "source": [
        "def in_the_middle(x, *y, z):\n",
        "    print(x, y, z)"
      ],
      "execution_count": null,
      "outputs": []
    },
    {
      "cell_type": "code",
      "metadata": {
        "id": "X-05YUJY1F3H",
        "outputId": "ec332d5d-9a6b-4aca-ed71-22a3db8ff0f8"
      },
      "source": [
        "in_the_middle(1, 2, 3, 4, 5, z=7)"
      ],
      "execution_count": null,
      "outputs": [
        {
          "output_type": "stream",
          "text": [
            "1 (2, 3, 4, 5) 7\n"
          ],
          "name": "stdout"
        }
      ]
    },
    {
      "cell_type": "code",
      "metadata": {
        "id": "sm0Enwj71F3J",
        "outputId": "15323c5f-3040-4c4e-9e5e-cf2d4da2dd1b"
      },
      "source": [
        "in_the_middle(1, 2, 3, 4, 5, 7)"
      ],
      "execution_count": null,
      "outputs": [
        {
          "output_type": "error",
          "ename": "TypeError",
          "evalue": "in_the_middle() missing 1 required keyword-only argument: 'z'",
          "traceback": [
            "\u001b[1;31m---------------------------------------------------------------------------\u001b[0m",
            "\u001b[1;31mTypeError\u001b[0m                                 Traceback (most recent call last)",
            "\u001b[1;32m<ipython-input-23-856c00be8eb8>\u001b[0m in \u001b[0;36m<module>\u001b[1;34m\u001b[0m\n\u001b[1;32m----> 1\u001b[1;33m \u001b[0min_the_middle\u001b[0m\u001b[1;33m(\u001b[0m\u001b[1;36m1\u001b[0m\u001b[1;33m,\u001b[0m \u001b[1;36m2\u001b[0m\u001b[1;33m,\u001b[0m \u001b[1;36m3\u001b[0m\u001b[1;33m,\u001b[0m \u001b[1;36m4\u001b[0m\u001b[1;33m,\u001b[0m \u001b[1;36m5\u001b[0m\u001b[1;33m,\u001b[0m \u001b[1;36m7\u001b[0m\u001b[1;33m)\u001b[0m\u001b[1;33m\u001b[0m\u001b[1;33m\u001b[0m\u001b[0m\n\u001b[0m",
            "\u001b[1;31mTypeError\u001b[0m: in_the_middle() missing 1 required keyword-only argument: 'z'"
          ]
        }
      ]
    },
    {
      "cell_type": "code",
      "metadata": {
        "id": "Fr0AAhsZ1F3L",
        "outputId": "84c4098c-3c79-42f3-f329-651e67e252d0"
      },
      "source": [
        "print_params_2('Hmm...', something=42)"
      ],
      "execution_count": null,
      "outputs": [
        {
          "output_type": "error",
          "ename": "TypeError",
          "evalue": "print_params_2() got an unexpected keyword argument 'something'",
          "traceback": [
            "\u001b[1;31m---------------------------------------------------------------------------\u001b[0m",
            "\u001b[1;31mTypeError\u001b[0m                                 Traceback (most recent call last)",
            "\u001b[1;32m<ipython-input-24-6e57a1b230ca>\u001b[0m in \u001b[0;36m<module>\u001b[1;34m\u001b[0m\n\u001b[1;32m----> 1\u001b[1;33m \u001b[0mprint_params_2\u001b[0m\u001b[1;33m(\u001b[0m\u001b[1;34m'Hmm...'\u001b[0m\u001b[1;33m,\u001b[0m \u001b[0msomething\u001b[0m\u001b[1;33m=\u001b[0m\u001b[1;36m42\u001b[0m\u001b[1;33m)\u001b[0m\u001b[1;33m\u001b[0m\u001b[1;33m\u001b[0m\u001b[0m\n\u001b[0m",
            "\u001b[1;31mTypeError\u001b[0m: print_params_2() got an unexpected keyword argument 'something'"
          ]
        }
      ]
    },
    {
      "cell_type": "code",
      "metadata": {
        "id": "ZYMamtJQ1F3M"
      },
      "source": [
        "# naming parameter from calling using **\n",
        "def print_params_3(**params):\n",
        "    print(params)  #returns dictionary instead of tuple"
      ],
      "execution_count": null,
      "outputs": []
    },
    {
      "cell_type": "code",
      "metadata": {
        "id": "4AtsiHMz1F3O",
        "outputId": "140b1165-cd7d-4f2e-e00f-d81409f22b8b"
      },
      "source": [
        "print_params_3(x=1, y=2, z=3)"
      ],
      "execution_count": null,
      "outputs": [
        {
          "output_type": "stream",
          "text": [
            "{'x': 1, 'y': 2, 'z': 3}\n"
          ],
          "name": "stdout"
        }
      ]
    },
    {
      "cell_type": "code",
      "metadata": {
        "id": "PANmPBuU1F3Q",
        "outputId": "c8fb8cc0-89e5-4325-d542-7f893ce71190"
      },
      "source": [
        "print_params_3(a=1, b=2, c=3)"
      ],
      "execution_count": null,
      "outputs": [
        {
          "output_type": "stream",
          "text": [
            "{'a': 1, 'b': 2, 'c': 3}\n"
          ],
          "name": "stdout"
        }
      ]
    },
    {
      "cell_type": "code",
      "metadata": {
        "id": "VXUYgAwM1F3U"
      },
      "source": [
        "# combining all\n",
        "def print_params_4(x, y, z=3, *pospar, **keypar):\n",
        "    print(x, y, z)\n",
        "    print(pospar)\n",
        "    print(keypar)\n",
        "    "
      ],
      "execution_count": null,
      "outputs": []
    },
    {
      "cell_type": "code",
      "metadata": {
        "id": "Rq8efacH1F3W",
        "outputId": "851de03a-51c4-4bd3-db79-2443a4352101"
      },
      "source": [
        "print_params_4(1, 2, 3, 5, 6, 7, foo=1, bar=2)"
      ],
      "execution_count": null,
      "outputs": [
        {
          "output_type": "stream",
          "text": [
            "1 2 3\n",
            "(5, 6, 7)\n",
            "{'foo': 1, 'bar': 2}\n"
          ],
          "name": "stdout"
        }
      ]
    },
    {
      "cell_type": "code",
      "metadata": {
        "id": "UwuzJzy01F3Y"
      },
      "source": [
        "# Reversing the process, collected parameters using * and **, Now just opposite\n",
        "# i.e sending data by * and **\n",
        "def add(x, y):\n",
        "    return x + y"
      ],
      "execution_count": null,
      "outputs": []
    },
    {
      "cell_type": "code",
      "metadata": {
        "id": "llwhTvNG1F3a",
        "outputId": "b6e3fdb7-97c3-4313-d29c-1c48305fd21a"
      },
      "source": [
        "params = (1, 2)\n",
        "add(*params)"
      ],
      "execution_count": null,
      "outputs": [
        {
          "output_type": "execute_result",
          "data": {
            "text/plain": [
              "3"
            ]
          },
          "metadata": {
            "tags": []
          },
          "execution_count": 35
        }
      ]
    },
    {
      "cell_type": "code",
      "metadata": {
        "id": "Ju86XIPI1F3c",
        "outputId": "629732ae-1216-4cd6-e843-35e732b79be7"
      },
      "source": [
        "params = {'name': '@TheASR', 'greeting': 'Well met'}\n",
        "hello_3(**params)"
      ],
      "execution_count": null,
      "outputs": [
        {
          "output_type": "stream",
          "text": [
            "Well met, @TheASR!\n"
          ],
          "name": "stdout"
        }
      ]
    },
    {
      "cell_type": "code",
      "metadata": {
        "id": "U_-PGTE51F3d"
      },
      "source": [
        "def with_stars(**kwds):\n",
        "    print(kwds['name'], 'is', kwds['age'], 'years old')\n",
        "def without_stars(kwds):\n",
        "    print(kwds['name'], 'is', kwds['age'], 'years old')"
      ],
      "execution_count": null,
      "outputs": []
    },
    {
      "cell_type": "code",
      "metadata": {
        "id": "t52AZ2R41F3h",
        "outputId": "7282ec37-66ca-4342-f40c-90da543b7c95"
      },
      "source": [
        "args = {'name': 'Mr. Gumby', 'age': 42}\n",
        "with_stars(**args)"
      ],
      "execution_count": null,
      "outputs": [
        {
          "output_type": "stream",
          "text": [
            "Mr. Gumby is 42 years old\n"
          ],
          "name": "stdout"
        }
      ]
    },
    {
      "cell_type": "code",
      "metadata": {
        "id": "qO3WIFwW1F3i",
        "outputId": "f07dbb5c-af7c-4b49-99c5-5449014d4a2a"
      },
      "source": [
        "without_stars(args)"
      ],
      "execution_count": null,
      "outputs": [
        {
          "output_type": "stream",
          "text": [
            "Mr. Gumby is 42 years old\n"
          ],
          "name": "stdout"
        }
      ]
    },
    {
      "cell_type": "code",
      "metadata": {
        "id": "3676j3Cc1F3k"
      },
      "source": [
        "# Parameter practice\n",
        "def story(**kwds):\n",
        "    return 'Once upon a time, there was a ' \\\n",
        "        '{job} called {name}.'.format_map(kwds)\n",
        "def power(x, y, *others):\n",
        "    if others:\n",
        "        print('Received redundant parameters:', others)\n",
        "    return pow(x, y)\n",
        "\n",
        "def interval(start, stop=None, step=1):\n",
        "    'Imitates range() for step > 0'\n",
        "    if stop is None: # If the stop is not supplied ...\n",
        "        start, stop = 0, start # shuffle the parameters\n",
        "    result = []\n",
        "    i = start # We start counting at the start index\n",
        "    while i < stop: # Until the index reaches the stop index ...\n",
        "        result.append(i) # ... append the index to the result ...\n",
        "        i += step # ... increment the index with the step (> 0)\n",
        "    return result"
      ],
      "execution_count": null,
      "outputs": []
    },
    {
      "cell_type": "code",
      "metadata": {
        "id": "t9sdT3Qu1F3m",
        "outputId": "1375bf59-a7ad-46c9-9d64-06ea48d04f89",
        "colab": {
          "base_uri": "https://localhost:8080/",
          "height": 269
        }
      },
      "source": [
        "print(story(job='king', name='Gumby'))\n",
        "print(story(name='Sir Robin', job='brave knight'))\n",
        "params = {'job': 'language', 'name': 'Python'}\n",
        "print(story(**params))\n",
        "del params['job']\n",
        "print(story(job='stroke of genius', **params))\n",
        "print(power(2, 3))\n",
        "print(power(3, 2))\n",
        "print(power(y=3, x=2))\n",
        "params = (5,) * 2\n",
        "print(power(*params))\n",
        "print(power(3, 3, 'Hello, world'))\n",
        "print(interval(10))\n",
        "print(interval(1, 5))\n",
        "print(interval(3, 12, 4))\n",
        "print(power(*interval(3, 7)))"
      ],
      "execution_count": null,
      "outputs": [
        {
          "output_type": "stream",
          "text": [
            "Once upon a time, there was a king called Gumby.\n",
            "Once upon a time, there was a brave knight called Sir Robin.\n",
            "Once upon a time, there was a language called Python.\n",
            "Once upon a time, there was a stroke of genius called Python.\n",
            "8\n",
            "9\n",
            "8\n",
            "3125\n",
            "Received redundant parameters: ('Hello, world',)\n",
            "27\n",
            "[0, 1, 2, 3, 4, 5, 6, 7, 8, 9]\n",
            "[1, 2, 3, 4]\n",
            "[3, 7, 11]\n",
            "Received redundant parameters: (5, 6)\n",
            "81\n"
          ],
          "name": "stdout"
        }
      ]
    },
    {
      "cell_type": "code",
      "metadata": {
        "id": "gRU9-RSD1F3r",
        "outputId": "9169452b-3ae1-4d9b-d559-9b986a303a11"
      },
      "source": [
        "#Scoping\n",
        "x=1\n",
        "# a invisible dictionary with name = x and value =1 and var() returns this directory\n",
        "s = vars()\n",
        "s['x']\n",
        "# namespace or scope is that invisible dictonary. previously used scope variable"
      ],
      "execution_count": null,
      "outputs": [
        {
          "output_type": "execute_result",
          "data": {
            "text/plain": [
              "1"
            ]
          },
          "metadata": {
            "tags": []
          },
          "execution_count": 3
        }
      ]
    },
    {
      "cell_type": "code",
      "metadata": {
        "id": "7tn3EotN1F3w",
        "outputId": "fec74b3c-a29a-4886-f4ee-d500f93962b9"
      },
      "source": [
        "s['x']+3"
      ],
      "execution_count": null,
      "outputs": [
        {
          "output_type": "execute_result",
          "data": {
            "text/plain": [
              "4"
            ]
          },
          "metadata": {
            "tags": []
          },
          "execution_count": 4
        }
      ]
    },
    {
      "cell_type": "code",
      "metadata": {
        "id": "j33LiFhE1F3y",
        "outputId": "8bcafbf2-d06c-4b5b-82e2-9affc6e78ebb"
      },
      "source": [
        "# How many namespace ?\n",
        "# each function call creates a new one\n",
        "def fun():x=42\n",
        "\n",
        "\n",
        "x=1\n",
        "fun()\n",
        "x"
      ],
      "execution_count": null,
      "outputs": [
        {
          "output_type": "execute_result",
          "data": {
            "text/plain": [
              "1"
            ]
          },
          "metadata": {
            "tags": []
          },
          "execution_count": 9
        }
      ]
    },
    {
      "cell_type": "code",
      "metadata": {
        "id": "K2Lmk9W91F30"
      },
      "source": [
        "def combine(parameter): print(parameter + external)"
      ],
      "execution_count": null,
      "outputs": []
    },
    {
      "cell_type": "code",
      "metadata": {
        "id": "2LxZOmaD1F33",
        "outputId": "453e9a0b-cbb1-4692-aade-0ac03ea4a532"
      },
      "source": [
        "external = 'berry'\n",
        "combine('Shrub')"
      ],
      "execution_count": null,
      "outputs": [
        {
          "output_type": "stream",
          "text": [
            "Shrubberry\n"
          ],
          "name": "stdout"
        }
      ]
    },
    {
      "cell_type": "code",
      "metadata": {
        "id": "_0Ckc5j_1F35",
        "outputId": "e187f735-2d47-47a0-fdc2-a703ff4e35ea"
      },
      "source": [
        "'''Reading the value of global variables is not a problem in general, but one thing may make it\n",
        "problematic. If a local variable or parameter exists with the same name as the global variable you want\n",
        "to access, you can’t do it directly. The global variable is shadowed by the local one.'''\n"
      ],
      "execution_count": null,
      "outputs": [
        {
          "output_type": "execute_result",
          "data": {
            "text/plain": [
              "'Reading the value of global variables is not a problem in general, but one thing may make it\\nproblematic. If a local variable or parameter exists with the same name as the global variable you want\\nto access, you can’t do it directly. The global variable is shadowed by the local one.'"
            ]
          },
          "metadata": {
            "tags": []
          },
          "execution_count": 3
        }
      ]
    },
    {
      "cell_type": "code",
      "metadata": {
        "id": "Gar2dgPi1F37"
      },
      "source": [
        "def combine(parameter):\n",
        "    print(parameter + globals()['parameter'])"
      ],
      "execution_count": null,
      "outputs": []
    },
    {
      "cell_type": "code",
      "metadata": {
        "id": "5WGbz6YW1F39",
        "outputId": "8ef9b1d6-178e-4522-f891-3013779224d7"
      },
      "source": [
        "parameter = 'berry'\n",
        "combine('Shrub')"
      ],
      "execution_count": null,
      "outputs": [
        {
          "output_type": "stream",
          "text": [
            "Shrubberry\n"
          ],
          "name": "stdout"
        }
      ]
    },
    {
      "cell_type": "code",
      "metadata": {
        "id": "9tEDTPZF1F3_"
      },
      "source": [
        "x=1\n",
        "def change():\n",
        "    x=2\n",
        "    x =x+1\n",
        "    "
      ],
      "execution_count": null,
      "outputs": []
    },
    {
      "cell_type": "code",
      "metadata": {
        "id": "IruAAD9k1F4B",
        "outputId": "225e593f-aa13-45d0-c795-c02d00d3d1cc"
      },
      "source": [
        "change()\n",
        "x"
      ],
      "execution_count": null,
      "outputs": [
        {
          "output_type": "execute_result",
          "data": {
            "text/plain": [
              "1"
            ]
          },
          "metadata": {
            "tags": []
          },
          "execution_count": 9
        }
      ]
    },
    {
      "cell_type": "code",
      "metadata": {
        "id": "ZoAJRFzi1F4D"
      },
      "source": [
        "def change(x):\n",
        "    x = x+1"
      ],
      "execution_count": null,
      "outputs": []
    },
    {
      "cell_type": "code",
      "metadata": {
        "id": "WnOuI0yC1F4E",
        "outputId": "f890d99b-8c18-4abd-92fd-bc16916f8ef9"
      },
      "source": [
        "x= 3\n",
        "change(x)\n",
        "x"
      ],
      "execution_count": null,
      "outputs": [
        {
          "output_type": "execute_result",
          "data": {
            "text/plain": [
              "3"
            ]
          },
          "metadata": {
            "tags": []
          },
          "execution_count": 12
        }
      ]
    },
    {
      "cell_type": "code",
      "metadata": {
        "id": "OT4QeyX11F4G"
      },
      "source": [
        "def change(x):\n",
        "    x=x+1\n",
        "    return x"
      ],
      "execution_count": null,
      "outputs": []
    },
    {
      "cell_type": "code",
      "metadata": {
        "id": "6Lr89ZXo1F4H",
        "outputId": "5cb3b60c-0345-4985-efc1-369c17ec7ded"
      },
      "source": [
        "x =5\n",
        "print(change(x))\n",
        "print(x)"
      ],
      "execution_count": null,
      "outputs": [
        {
          "output_type": "stream",
          "text": [
            "6\n",
            "5\n"
          ],
          "name": "stdout"
        }
      ]
    },
    {
      "cell_type": "code",
      "metadata": {
        "id": "hVX56khw1F4J"
      },
      "source": [
        "# Rebinding global variable\n",
        "x =1\n",
        "def change():\n",
        "    global x\n",
        "    x= x+1"
      ],
      "execution_count": null,
      "outputs": []
    },
    {
      "cell_type": "code",
      "metadata": {
        "id": "kqRScoCL1F4L",
        "outputId": "b9800c0a-4edd-4f02-a2a5-b90db055f5c0"
      },
      "source": [
        "x=89\n",
        "change()\n",
        "x  #finally changed"
      ],
      "execution_count": null,
      "outputs": [
        {
          "output_type": "execute_result",
          "data": {
            "text/plain": [
              "90"
            ]
          },
          "metadata": {
            "tags": []
          },
          "execution_count": 18
        }
      ]
    },
    {
      "cell_type": "code",
      "metadata": {
        "id": "jBoOVTok1F4M"
      },
      "source": [
        "#nested scopes\n",
        "def foo():\n",
        "    def bar():\n",
        "        print(\"Hello, world!\")\n",
        "    bar()"
      ],
      "execution_count": null,
      "outputs": []
    },
    {
      "cell_type": "code",
      "metadata": {
        "id": "i6w6LAUq1F4P",
        "outputId": "35d6801b-a65c-4df4-b87c-8ed84bc637fb"
      },
      "source": [
        "foo()"
      ],
      "execution_count": null,
      "outputs": [
        {
          "output_type": "stream",
          "text": [
            "Hello, world!\n"
          ],
          "name": "stdout"
        }
      ]
    },
    {
      "cell_type": "code",
      "metadata": {
        "id": "PpBan8XR1F4Q"
      },
      "source": [
        "def multiplier(factor):\n",
        "    def multiplyByFactor(number):\n",
        "        return number * factor\n",
        "    return multiplyByFactor"
      ],
      "execution_count": null,
      "outputs": []
    },
    {
      "cell_type": "code",
      "metadata": {
        "id": "M72n9a7x1F4T",
        "outputId": "07d0eb68-b23c-4903-fda1-51705d8108f3"
      },
      "source": [
        "multiplyByFactor(5)"
      ],
      "execution_count": null,
      "outputs": [
        {
          "output_type": "error",
          "ename": "NameError",
          "evalue": "name 'multiplyByFactor' is not defined",
          "traceback": [
            "\u001b[1;31m---------------------------------------------------------------------------\u001b[0m",
            "\u001b[1;31mNameError\u001b[0m                                 Traceback (most recent call last)",
            "\u001b[1;32m<ipython-input-22-1588f7fd4c9b>\u001b[0m in \u001b[0;36m<module>\u001b[1;34m\u001b[0m\n\u001b[1;32m----> 1\u001b[1;33m \u001b[0mmultiplyByFactor\u001b[0m\u001b[1;33m(\u001b[0m\u001b[1;36m5\u001b[0m\u001b[1;33m)\u001b[0m\u001b[1;33m\u001b[0m\u001b[1;33m\u001b[0m\u001b[0m\n\u001b[0m",
            "\u001b[1;31mNameError\u001b[0m: name 'multiplyByFactor' is not defined"
          ]
        }
      ]
    },
    {
      "cell_type": "code",
      "metadata": {
        "id": "IU7EJ3SB1F4V",
        "outputId": "82e30ff9-7eaf-49cf-92e7-685b7a0cbab0"
      },
      "source": [
        "c = multiplier(5)\n",
        "c(10)"
      ],
      "execution_count": null,
      "outputs": [
        {
          "output_type": "execute_result",
          "data": {
            "text/plain": [
              "50"
            ]
          },
          "metadata": {
            "tags": []
          },
          "execution_count": 32
        }
      ]
    },
    {
      "cell_type": "code",
      "metadata": {
        "id": "uq4bZy1T1F4X",
        "outputId": "03da5838-c923-4f49-de6b-eca206ed0314"
      },
      "source": [
        "multiplier(5)(6)"
      ],
      "execution_count": null,
      "outputs": [
        {
          "output_type": "execute_result",
          "data": {
            "text/plain": [
              "30"
            ]
          },
          "metadata": {
            "tags": []
          },
          "execution_count": 33
        }
      ]
    },
    {
      "cell_type": "code",
      "metadata": {
        "id": "pEIKSBNr1F4Z"
      },
      "source": [
        "# Recursion\n",
        "# Classic Example\n",
        "def factorial(n):\n",
        "    result = n\n",
        "    for i in range(1, n):\n",
        "        result *= i\n",
        "    return result"
      ],
      "execution_count": null,
      "outputs": []
    },
    {
      "cell_type": "code",
      "metadata": {
        "id": "cArZuIX61F4a",
        "outputId": "0199bacd-64eb-461d-b844-74496fe1febf"
      },
      "source": [
        "factorial(6)"
      ],
      "execution_count": null,
      "outputs": [
        {
          "output_type": "execute_result",
          "data": {
            "text/plain": [
              "720"
            ]
          },
          "metadata": {
            "tags": []
          },
          "execution_count": 35
        }
      ]
    },
    {
      "cell_type": "code",
      "metadata": {
        "id": "rSA-J2ur1F4c"
      },
      "source": [
        "# Recursion Way\n",
        "def factorial(n):\n",
        "    if n == 1:\n",
        "        return 1\n",
        "    else:\n",
        "        return n * factorial(n - 1)"
      ],
      "execution_count": null,
      "outputs": []
    },
    {
      "cell_type": "code",
      "metadata": {
        "id": "XC66B8-U1F4f",
        "outputId": "3c960469-271b-4058-8375-cfb29abd99b2"
      },
      "source": [
        "factorial(5)\n"
      ],
      "execution_count": null,
      "outputs": [
        {
          "output_type": "execute_result",
          "data": {
            "text/plain": [
              "120"
            ]
          },
          "metadata": {
            "tags": []
          },
          "execution_count": 37
        }
      ]
    },
    {
      "cell_type": "code",
      "metadata": {
        "id": "z1V_BNwj1F4i"
      },
      "source": [
        "# Another classic example\n",
        "def power(x, n):\n",
        "    if n == 0:\n",
        "        return 1\n",
        "    else:\n",
        "        return x * power(x, n - 1)"
      ],
      "execution_count": null,
      "outputs": []
    },
    {
      "cell_type": "code",
      "metadata": {
        "id": "lbUc-7hc1F4l",
        "outputId": "96711674-f850-4657-b1d6-376f6a720358"
      },
      "source": [
        "power(5,5)"
      ],
      "execution_count": null,
      "outputs": [
        {
          "output_type": "execute_result",
          "data": {
            "text/plain": [
              "3125"
            ]
          },
          "metadata": {
            "tags": []
          },
          "execution_count": 39
        }
      ]
    },
    {
      "cell_type": "code",
      "metadata": {
        "id": "IAvtZlbV1F4o"
      },
      "source": [
        "# Binary Search\n",
        "def search(sequence, number, lower=0, upper=None):\n",
        "    if upper is None: upper = len(sequence) - 1\n",
        "    if lower == upper:\n",
        "        assert number == sequence[upper]\n",
        "        return upper\n",
        "    else:\n",
        "        middle = (lower + upper) // 2\n",
        "        if number > sequence[middle]:\n",
        "            return search(sequence, number, middle + 1, upper)\n",
        "        else:\n",
        "            return search(sequence, number, lower, middle)"
      ],
      "execution_count": null,
      "outputs": []
    },
    {
      "cell_type": "code",
      "metadata": {
        "id": "AhzKiSJt1F4p",
        "outputId": "56969f66-dd8c-4fbf-bf63-bdffebf493f1"
      },
      "source": [
        "seq = [34, 67, 8, 123, 4, 100, 95]\n",
        "seq.sort()\n",
        "search(seq, 34)"
      ],
      "execution_count": null,
      "outputs": [
        {
          "output_type": "execute_result",
          "data": {
            "text/plain": [
              "2"
            ]
          },
          "metadata": {
            "tags": []
          },
          "execution_count": 47
        }
      ]
    },
    {
      "cell_type": "code",
      "metadata": {
        "id": "bLUtII1O1F4q",
        "outputId": "f053b1e8-4b12-4e84-b69c-50cec08af3cf",
        "colab": {
          "base_uri": "https://localhost:8080/",
          "height": 34
        }
      },
      "source": [
        "dir = 'c:\\abhi\\tcs'\n",
        "print(dir + '\\\\')"
      ],
      "execution_count": null,
      "outputs": [
        {
          "output_type": "stream",
          "text": [
            "c:\u0007bhi\tcs\\\n"
          ],
          "name": "stdout"
        }
      ]
    },
    {
      "cell_type": "code",
      "metadata": {
        "id": "aKW2y6EjgVHX",
        "outputId": "d8c3a6ca-1e68-490c-e15d-0d4c7a0d0236",
        "colab": {
          "base_uri": "https://localhost:8080/",
          "height": 185
        }
      },
      "source": [
        "#pass and continue \n",
        "\n",
        "for i in range(10):\n",
        "  if i%2==0:\n",
        "    print(\"even\")\n",
        "    continue\n",
        "    print(\"hello\")\n",
        "  else:\n",
        "    print(\"odd number\")\n",
        "\n"
      ],
      "execution_count": null,
      "outputs": [
        {
          "output_type": "stream",
          "text": [
            "even\n",
            "odd number\n",
            "even\n",
            "odd number\n",
            "even\n",
            "odd number\n",
            "even\n",
            "odd number\n",
            "even\n",
            "odd number\n"
          ],
          "name": "stdout"
        }
      ]
    },
    {
      "cell_type": "code",
      "metadata": {
        "id": "KuZJkyJwhnaT"
      },
      "source": [
        "print()"
      ],
      "execution_count": null,
      "outputs": []
    }
  ]
}