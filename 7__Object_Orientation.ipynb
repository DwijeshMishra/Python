{
  "nbformat": 4,
  "nbformat_minor": 0,
  "metadata": {
    "kernelspec": {
      "display_name": "Python 3",
      "language": "python",
      "name": "python3"
    },
    "language_info": {
      "codemirror_mode": {
        "name": "ipython",
        "version": 3
      },
      "file_extension": ".py",
      "mimetype": "text/x-python",
      "name": "python",
      "nbconvert_exporter": "python",
      "pygments_lexer": "ipython3",
      "version": "3.7.3"
    },
    "colab": {
      "name": "7__Object Orientation.ipynb",
      "provenance": [],
      "include_colab_link": true
    }
  },
  "cells": [
    {
      "cell_type": "markdown",
      "metadata": {
        "id": "view-in-github",
        "colab_type": "text"
      },
      "source": [
        "<a href=\"https://colab.research.google.com/github/abhishekatujjain/Python/blob/master/7__Object_Orientation.ipynb\" target=\"_parent\"><img src=\"https://colab.research.google.com/assets/colab-badge.svg\" alt=\"Open In Colab\"/></a>"
      ]
    },
    {
      "cell_type": "code",
      "metadata": {
        "id": "GkPWLSae_UXQ"
      },
      "source": [
        "# the term object loosely means a collection of data (attributes) with a set of methods for accessing and manipulating those data\n",
        "class Person:\n",
        "    def set_name(self, name):\n",
        "        self.name = name\n",
        "    def get_name(self):\n",
        "        return self.name\n",
        "    def greet(self):\n",
        "        print(\"Hello, world! I'm {}.\".format(self.name))"
      ],
      "execution_count": null,
      "outputs": []
    },
    {
      "cell_type": "code",
      "metadata": {
        "id": "WGpvWxPT_UXY",
        "outputId": "63bf59d0-beee-4c49-e020-9607c241f9e7"
      },
      "source": [
        "a= Person()\n",
        "b= Person()\n",
        "a == b"
      ],
      "execution_count": null,
      "outputs": [
        {
          "output_type": "execute_result",
          "data": {
            "text/plain": [
              "False"
            ]
          },
          "metadata": {
            "tags": []
          },
          "execution_count": 3
        }
      ]
    },
    {
      "cell_type": "code",
      "metadata": {
        "id": "voK9TE3n_UXh"
      },
      "source": [
        "a.set_name(\"Abhishek\")\n",
        "b.set_name(\"Anuraj\")"
      ],
      "execution_count": null,
      "outputs": []
    },
    {
      "cell_type": "code",
      "metadata": {
        "id": "aJIVm6rG_UXn",
        "outputId": "729aec35-542c-4082-dc43-4b2a4fe65507"
      },
      "source": [
        "print(a.get_name())\n",
        "print(b.get_name())"
      ],
      "execution_count": null,
      "outputs": [
        {
          "output_type": "stream",
          "text": [
            "Abhishek\n",
            "Anuraj\n"
          ],
          "name": "stdout"
        }
      ]
    },
    {
      "cell_type": "code",
      "metadata": {
        "id": "q0yk9Uco_UXq",
        "outputId": "0c90d9be-9cec-4142-8bbd-269d0c637126"
      },
      "source": [
        "a.greet()\n",
        "b.greet()"
      ],
      "execution_count": null,
      "outputs": [
        {
          "output_type": "stream",
          "text": [
            "Hello, world! I'm Abhishek.\n",
            "Hello, world! I'm Anuraj.\n"
          ],
          "name": "stdout"
        }
      ]
    },
    {
      "cell_type": "code",
      "metadata": {
        "id": "vzFi5vKh_UXt",
        "outputId": "ce82820d-483b-405c-e86e-19b80c98b6ba"
      },
      "source": [
        "b.set_name(\"Icy\")\n",
        "b.greet()"
      ],
      "execution_count": null,
      "outputs": [
        {
          "output_type": "stream",
          "text": [
            "Hello, world! I'm Icy.\n"
          ],
          "name": "stdout"
        }
      ]
    },
    {
      "cell_type": "code",
      "metadata": {
        "id": "YUVP3FGQ_UXw"
      },
      "source": [
        "# Self parameter: distinguishes methods from functions\n",
        "# Python method is like a function, except it is attached to an object. We call a method on an object, \n",
        "# and it possibly makes changes to that object. A method, then, belongs to a class\n",
        "\n",
        "class Class:\n",
        "    def method(self):\n",
        "        print('I have a self!')\n",
        "def function():\n",
        "    print(\"I don't...\")"
      ],
      "execution_count": null,
      "outputs": []
    },
    {
      "cell_type": "code",
      "metadata": {
        "id": "Xjyy356w_UXy",
        "outputId": "939200c5-0804-49f4-b442-ee43503b7d7f"
      },
      "source": [
        "instance = Class()\n",
        "instance.method()"
      ],
      "execution_count": null,
      "outputs": [
        {
          "output_type": "stream",
          "text": [
            "I have a self!\n"
          ],
          "name": "stdout"
        }
      ]
    },
    {
      "cell_type": "code",
      "metadata": {
        "id": "_iZXC_Ke_UX1"
      },
      "source": [
        "instance.method = function"
      ],
      "execution_count": null,
      "outputs": []
    },
    {
      "cell_type": "code",
      "metadata": {
        "id": "xFz12Tuj_UX3",
        "outputId": "23178f9d-4e76-425f-c9ed-0b79d9298254"
      },
      "source": [
        "instance.method()"
      ],
      "execution_count": null,
      "outputs": [
        {
          "output_type": "stream",
          "text": [
            "I don't...\n"
          ],
          "name": "stdout"
        }
      ]
    },
    {
      "cell_type": "code",
      "metadata": {
        "id": "ZHsNO3Un_UX5"
      },
      "source": [
        "# Privacy\n",
        "class Secretive:\n",
        "    def __inaccessible(self):\n",
        "        print(\"Bet you can't see me ...\")\n",
        "    def accessible(self):\n",
        "        print(\"The secret message is:\")\n",
        "        self.__inaccessible()"
      ],
      "execution_count": null,
      "outputs": []
    },
    {
      "cell_type": "code",
      "metadata": {
        "id": "LcWobllV_UX7",
        "outputId": "fae880d1-2667-4ba8-a77a-5afb96d29ffe"
      },
      "source": [
        "ob = Secretive()\n",
        "ob.accessible()"
      ],
      "execution_count": null,
      "outputs": [
        {
          "output_type": "stream",
          "text": [
            "The secret message is:\n",
            "Bet you can't see me ...\n"
          ],
          "name": "stdout"
        }
      ]
    },
    {
      "cell_type": "code",
      "metadata": {
        "id": "PIrs8_fu_UX-",
        "outputId": "a985eda6-488e-415c-a1d9-0a3dd95ab7ca"
      },
      "source": [
        "ob.__inaccessible()"
      ],
      "execution_count": null,
      "outputs": [
        {
          "output_type": "error",
          "ename": "AttributeError",
          "evalue": "'Secretive' object has no attribute '__inaccessible'",
          "traceback": [
            "\u001b[1;31m---------------------------------------------------------------------------\u001b[0m",
            "\u001b[1;31mAttributeError\u001b[0m                            Traceback (most recent call last)",
            "\u001b[1;32m<ipython-input-23-d343b69db5e8>\u001b[0m in \u001b[0;36m<module>\u001b[1;34m\u001b[0m\n\u001b[1;32m----> 1\u001b[1;33m \u001b[0mob\u001b[0m\u001b[1;33m.\u001b[0m\u001b[0m__inaccessible\u001b[0m\u001b[1;33m(\u001b[0m\u001b[1;33m)\u001b[0m\u001b[1;33m\u001b[0m\u001b[1;33m\u001b[0m\u001b[0m\n\u001b[0m",
            "\u001b[1;31mAttributeError\u001b[0m: 'Secretive' object has no attribute '__inaccessible'"
          ]
        }
      ]
    },
    {
      "cell_type": "code",
      "metadata": {
        "id": "U9qOSpl5_UYA"
      },
      "source": [
        "def foo(x): return x * x\n",
        "foo1 = lambda x: x * x    #Both are same"
      ],
      "execution_count": null,
      "outputs": []
    },
    {
      "cell_type": "code",
      "metadata": {
        "id": "-91OjqJ5_UYC",
        "outputId": "0f912a31-674e-4f71-b1e4-e0074007cfce"
      },
      "source": [
        "print(foo(4))"
      ],
      "execution_count": null,
      "outputs": [
        {
          "output_type": "stream",
          "text": [
            "16\n"
          ],
          "name": "stdout"
        }
      ]
    },
    {
      "cell_type": "code",
      "metadata": {
        "id": "f4smi27O_UYE",
        "outputId": "d3f9b60f-cca7-4060-9450-842009db6f51"
      },
      "source": [
        "print(foo1(5))"
      ],
      "execution_count": null,
      "outputs": [
        {
          "output_type": "stream",
          "text": [
            "25\n"
          ],
          "name": "stdout"
        }
      ]
    },
    {
      "cell_type": "code",
      "metadata": {
        "id": "dK55blwQ_UYG",
        "outputId": "bedfa717-ae3d-4a2d-83da-a76781221f88"
      },
      "source": [
        "class C:\n",
        "    print('Class C being defined...')"
      ],
      "execution_count": null,
      "outputs": [
        {
          "output_type": "stream",
          "text": [
            "Class C being defined...\n"
          ],
          "name": "stdout"
        }
      ]
    },
    {
      "cell_type": "code",
      "metadata": {
        "id": "RLyS3CZv_UYI"
      },
      "source": [
        "class MemberCounter:\n",
        "    members = 0\n",
        "    def init(self):\n",
        "        MemberCounter.members += 1"
      ],
      "execution_count": null,
      "outputs": []
    },
    {
      "cell_type": "code",
      "metadata": {
        "id": "O4M5v62d_UYM",
        "outputId": "577cd42c-0d56-49b0-df0f-fddbb8845cba"
      },
      "source": [
        "ab = MemberCounter()\n",
        "ab.init()\n",
        "print(ab.members)"
      ],
      "execution_count": null,
      "outputs": [
        {
          "output_type": "stream",
          "text": [
            "1\n"
          ],
          "name": "stdout"
        }
      ]
    },
    {
      "cell_type": "code",
      "metadata": {
        "id": "1Z2ppH-H_UYO",
        "outputId": "d2269167-ea73-4a63-c3dc-e50211b37327"
      },
      "source": [
        "ab1 = MemberCounter()\n",
        "ab1.init()\n",
        "print(ab1.members)"
      ],
      "execution_count": null,
      "outputs": [
        {
          "output_type": "stream",
          "text": [
            "2\n"
          ],
          "name": "stdout"
        }
      ]
    },
    {
      "cell_type": "code",
      "metadata": {
        "id": "KUZdd6o-_UYQ"
      },
      "source": [
        "ab.members=3"
      ],
      "execution_count": null,
      "outputs": []
    },
    {
      "cell_type": "code",
      "metadata": {
        "id": "WULGieNq_UYS",
        "outputId": "122661e8-1a58-4b74-ba8d-c35956b8cfd1"
      },
      "source": [
        "ab1.members"
      ],
      "execution_count": null,
      "outputs": [
        {
          "output_type": "execute_result",
          "data": {
            "text/plain": [
              "2"
            ]
          },
          "metadata": {
            "tags": []
          },
          "execution_count": 32
        }
      ]
    },
    {
      "cell_type": "code",
      "metadata": {
        "id": "WY0oPDtV_UYV"
      },
      "source": [
        "# members is available to all objects"
      ],
      "execution_count": null,
      "outputs": []
    },
    {
      "cell_type": "code",
      "metadata": {
        "id": "kzez7n-a_UYX"
      },
      "source": [
        "class Father:\n",
        "    name = None\n",
        "    mname = \"Singh\"\n",
        "    lname = \"Rathore\"\n",
        "    def ininame(self, a):\n",
        "        self.name = a\n",
        "        \n",
        "class Son(Father):\n",
        "    def ininame(self,b):\n",
        "        self.name = b\n",
        "    "
      ],
      "execution_count": null,
      "outputs": []
    },
    {
      "cell_type": "code",
      "metadata": {
        "id": "Azvn0QVS_UYZ"
      },
      "source": [
        "ob = Father()\n",
        "ob.ininame(\"Abhishek\")"
      ],
      "execution_count": null,
      "outputs": []
    },
    {
      "cell_type": "code",
      "metadata": {
        "id": "y1VPcc6K_UYb"
      },
      "source": [
        "ob1 = Son()\n",
        "ob1.ininame(\"Anuraj\")"
      ],
      "execution_count": null,
      "outputs": []
    },
    {
      "cell_type": "code",
      "metadata": {
        "id": "yEvx5xnf_UYe",
        "outputId": "5ab8b973-97db-4064-cab7-f01c62788424"
      },
      "source": [
        "print(ob1.name,ob1.mname,ob1.lname)\n",
        "print(ob.name,ob.mname,ob.lname)"
      ],
      "execution_count": null,
      "outputs": [
        {
          "output_type": "stream",
          "text": [
            "Anuraj Singh Rathore\n",
            "Abhishek Singh Rathore\n"
          ],
          "name": "stdout"
        }
      ]
    },
    {
      "cell_type": "code",
      "metadata": {
        "id": "dZagkkwb_UYg",
        "outputId": "bc3c0e2e-1f2e-46ca-8f0f-0f9b9d7116c2"
      },
      "source": [
        "issubclass(Son,Father)"
      ],
      "execution_count": null,
      "outputs": [
        {
          "output_type": "execute_result",
          "data": {
            "text/plain": [
              "True"
            ]
          },
          "metadata": {
            "tags": []
          },
          "execution_count": 43
        }
      ]
    },
    {
      "cell_type": "code",
      "metadata": {
        "id": "rPBkh3RT_UYi",
        "outputId": "a6a16116-1723-4d7a-9d56-a8d1b0defcfc"
      },
      "source": [
        "#If you have a class and want to know its base classes\n",
        "Son.__bases__"
      ],
      "execution_count": null,
      "outputs": [
        {
          "output_type": "execute_result",
          "data": {
            "text/plain": [
              "(__main__.Father,)"
            ]
          },
          "metadata": {
            "tags": []
          },
          "execution_count": 44
        }
      ]
    },
    {
      "cell_type": "code",
      "metadata": {
        "id": "75FJmsjB_UYj",
        "outputId": "4944f114-66f1-4ab1-f375-9adc3af4036b"
      },
      "source": [
        "Father.__bases__"
      ],
      "execution_count": null,
      "outputs": [
        {
          "output_type": "execute_result",
          "data": {
            "text/plain": [
              "(object,)"
            ]
          },
          "metadata": {
            "tags": []
          },
          "execution_count": 45
        }
      ]
    },
    {
      "cell_type": "code",
      "metadata": {
        "id": "zDCANKD3_UYl",
        "outputId": "5892a45d-e1b1-4579-c413-2e908a2ee89f"
      },
      "source": [
        "isinstance(ob1,Son)  #checking whether ob1 is instance of Son"
      ],
      "execution_count": null,
      "outputs": [
        {
          "output_type": "execute_result",
          "data": {
            "text/plain": [
              "True"
            ]
          },
          "metadata": {
            "tags": []
          },
          "execution_count": 46
        }
      ]
    },
    {
      "cell_type": "code",
      "metadata": {
        "id": "uP-ARfiX_UYo",
        "outputId": "d5f5ab9e-3c21-423f-a48d-f8f12ec96dfc"
      },
      "source": [
        "# I really don't know about class then\n",
        "ob1.__class__"
      ],
      "execution_count": null,
      "outputs": [
        {
          "output_type": "execute_result",
          "data": {
            "text/plain": [
              "__main__.Son"
            ]
          },
          "metadata": {
            "tags": []
          },
          "execution_count": 47
        }
      ]
    },
    {
      "cell_type": "code",
      "metadata": {
        "id": "lnPEm4a1_UYp",
        "outputId": "0d5983b5-cbe2-43cc-868a-e296798d13e9"
      },
      "source": [
        "#Multiple Super Classes\n",
        "class LivingBeing:\n",
        "    def Eat(self):\n",
        "        print(\"Eat a lot\")\n",
        "\n",
        "class Engineer:\n",
        "    def work(self):\n",
        "        print(\"No money\")\n",
        "        \n",
        "class EngineeringStudent(LivingBeing, Engineer):\n",
        "    def status(self):\n",
        "        print(\"Zindagi Barbad\")\n",
        "        \n",
        "obj = EngineeringStudent()\n",
        "obj.Eat()\n",
        "obj.work()\n",
        "obj.status()\n",
        "    "
      ],
      "execution_count": null,
      "outputs": [
        {
          "output_type": "stream",
          "text": [
            "Eat a lot\n",
            "No money\n",
            "Zindagi Barbad\n"
          ],
          "name": "stdout"
        }
      ]
    },
    {
      "cell_type": "code",
      "metadata": {
        "id": "jpst1gE0_UYr",
        "outputId": "8b3ab6d7-7ef2-4901-a8a3-486e41144cc8"
      },
      "source": [
        "# Same method\n",
        "class LivingBeing:\n",
        "    def Eat(self):\n",
        "        print(\"Eat a lot\")\n",
        "\n",
        "class Engineer:\n",
        "    def Eat(self):\n",
        "        print(\"No Food\")\n",
        "        \n",
        "class EngineeringStudent(LivingBeing, Engineer):\n",
        "    def status(self):\n",
        "        print(\"Zindagi Barbad\")\n",
        "        \n",
        "obj = EngineeringStudent()\n",
        "obj.Eat()\n",
        "#obj.work()\n",
        "obj.status()"
      ],
      "execution_count": null,
      "outputs": [
        {
          "output_type": "stream",
          "text": [
            "Eat a lot\n",
            "Zindagi Barbad\n"
          ],
          "name": "stdout"
        }
      ]
    },
    {
      "cell_type": "code",
      "metadata": {
        "id": "Z_h_-QNo_UYt",
        "outputId": "b159fa2e-7c5e-402b-ec29-18ed603c565b"
      },
      "source": [
        "# Same method\n",
        "class LivingBeing:\n",
        "    def Eat(self):\n",
        "        print(\"Eat a lot\")\n",
        "\n",
        "class Engineer:\n",
        "    def Eat(self):\n",
        "        print(\"No Food\")\n",
        "        \n",
        "class EngineeringStudent(Engineer,LivingBeing):\n",
        "    def status(self):\n",
        "        print(\"Zindagi Barbad\")\n",
        "        \n",
        "obj = EngineeringStudent()\n",
        "obj.Eat()\n",
        "#obj.work()\n",
        "obj.status()"
      ],
      "execution_count": null,
      "outputs": [
        {
          "output_type": "stream",
          "text": [
            "No Food\n",
            "Zindagi Barbad\n"
          ],
          "name": "stdout"
        }
      ]
    },
    {
      "cell_type": "code",
      "metadata": {
        "id": "56C00BQ__UYv",
        "outputId": "00ccc91e-08b2-47e8-bd0a-e918e6b3cab8"
      },
      "source": [
        "aa = LivingBeing()\n",
        "aa.status()\n"
      ],
      "execution_count": null,
      "outputs": [
        {
          "output_type": "error",
          "ename": "AttributeError",
          "evalue": "'LivingBeing' object has no attribute 'status'",
          "traceback": [
            "\u001b[1;31m---------------------------------------------------------------------------\u001b[0m",
            "\u001b[1;31mAttributeError\u001b[0m                            Traceback (most recent call last)",
            "\u001b[1;32m<ipython-input-53-f8c27f83c808>\u001b[0m in \u001b[0;36m<module>\u001b[1;34m\u001b[0m\n\u001b[0;32m      1\u001b[0m \u001b[0maa\u001b[0m \u001b[1;33m=\u001b[0m \u001b[0mLivingBeing\u001b[0m\u001b[1;33m(\u001b[0m\u001b[1;33m)\u001b[0m\u001b[1;33m\u001b[0m\u001b[1;33m\u001b[0m\u001b[0m\n\u001b[1;32m----> 2\u001b[1;33m \u001b[0maa\u001b[0m\u001b[1;33m.\u001b[0m\u001b[0mstatus\u001b[0m\u001b[1;33m(\u001b[0m\u001b[1;33m)\u001b[0m\u001b[1;33m\u001b[0m\u001b[1;33m\u001b[0m\u001b[0m\n\u001b[0m",
            "\u001b[1;31mAttributeError\u001b[0m: 'LivingBeing' object has no attribute 'status'"
          ]
        }
      ]
    },
    {
      "cell_type": "code",
      "metadata": {
        "id": "KxtR5-wg_UYx",
        "outputId": "6131c69c-615a-428c-b7a9-34f485a66beb"
      },
      "source": [
        "class Engineer:\n",
        "    def Eat(self):\n",
        "        print(\"No food\")\n",
        "        \n",
        "class EngineeringStudent(Engineer,LivingBeing):\n",
        "    def Eat(self):\n",
        "        #print(\"Zindagi Barbad\")\n",
        "        \n",
        "obj = Engineer()\n",
        "obj.Eat()"
      ],
      "execution_count": null,
      "outputs": [
        {
          "output_type": "error",
          "ename": "IndentationError",
          "evalue": "expected an indented block (<ipython-input-66-790315987438>, line 9)",
          "traceback": [
            "\u001b[1;36m  File \u001b[1;32m\"<ipython-input-66-790315987438>\"\u001b[1;36m, line \u001b[1;32m9\u001b[0m\n\u001b[1;33m    obj = Engineer()\u001b[0m\n\u001b[1;37m                    ^\u001b[0m\n\u001b[1;31mIndentationError\u001b[0m\u001b[1;31m:\u001b[0m expected an indented block\n"
          ]
        }
      ]
    },
    {
      "cell_type": "code",
      "metadata": {
        "id": "XEKbfruj_UYz"
      },
      "source": [
        "obj1 = EngineeringStudent()"
      ],
      "execution_count": null,
      "outputs": []
    },
    {
      "cell_type": "code",
      "metadata": {
        "id": "0mxz0kZR_UY1",
        "outputId": "17a9fdd3-deec-4680-bad4-8f773055549c"
      },
      "source": [
        "obj1.Eat()"
      ],
      "execution_count": null,
      "outputs": [
        {
          "output_type": "stream",
          "text": [
            "Zindagi Barbad\n"
          ],
          "name": "stdout"
        }
      ]
    },
    {
      "cell_type": "code",
      "metadata": {
        "id": "Z1MX7yTF_UY2",
        "outputId": "c0e972ce-10dd-475e-b0be-b3479519b36c"
      },
      "source": [
        "# Reversing order\n",
        "# Same method\n",
        "class LivingBeing:\n",
        "    def Eat(self):\n",
        "        print(\"Eat a lot\")\n",
        "\n",
        "class Engineer:\n",
        "    def Eat(self):\n",
        "        print(\"No Food\")\n",
        "        \n",
        "class EngineeringStudent(Engineer,LivingBeing):pass\n",
        "    #def status(self):\n",
        "        #print(\"Zindagi Barbad\")\n",
        "        \n",
        "obj = EngineeringStudent()\n",
        "obj.Eat()\n",
        "#obj.work()\n",
        "#obj.status()"
      ],
      "execution_count": null,
      "outputs": [
        {
          "output_type": "stream",
          "text": [
            "No Food\n"
          ],
          "name": "stdout"
        }
      ]
    },
    {
      "cell_type": "code",
      "metadata": {
        "id": "t351k9PI_UY5"
      },
      "source": [
        "# Abstract Base Classes\n",
        "from abc import ABC, abstractmethod\n",
        "class Talker(ABC):\n",
        "    @abstractmethod\n",
        "    def talk(self):\n",
        "        pass"
      ],
      "execution_count": null,
      "outputs": []
    },
    {
      "cell_type": "code",
      "metadata": {
        "id": "t779Kvcn_UY8",
        "outputId": "2a28712a-f16d-4f80-e75c-d09c08ae4236"
      },
      "source": [
        "Talker()"
      ],
      "execution_count": null,
      "outputs": [
        {
          "output_type": "error",
          "ename": "TypeError",
          "evalue": "Can't instantiate abstract class Talker with abstract methods talk",
          "traceback": [
            "\u001b[1;31m---------------------------------------------------------------------------\u001b[0m",
            "\u001b[1;31mTypeError\u001b[0m                                 Traceback (most recent call last)",
            "\u001b[1;32m<ipython-input-7-29e18f7df7f3>\u001b[0m in \u001b[0;36m<module>\u001b[1;34m\u001b[0m\n\u001b[1;32m----> 1\u001b[1;33m \u001b[0mTalker\u001b[0m\u001b[1;33m(\u001b[0m\u001b[1;33m)\u001b[0m\u001b[1;33m\u001b[0m\u001b[1;33m\u001b[0m\u001b[0m\n\u001b[0m",
            "\u001b[1;31mTypeError\u001b[0m: Can't instantiate abstract class Talker with abstract methods talk"
          ]
        }
      ]
    },
    {
      "cell_type": "code",
      "metadata": {
        "id": "DVtW_xyr_UY_"
      },
      "source": [
        "class Knigget(Talker):\n",
        "    pass"
      ],
      "execution_count": null,
      "outputs": []
    },
    {
      "cell_type": "code",
      "metadata": {
        "id": "yG-8PS7B_UZA",
        "outputId": "237bb20c-08c5-4143-f1a9-e70deb2f9743"
      },
      "source": [
        "Knigget()"
      ],
      "execution_count": null,
      "outputs": [
        {
          "output_type": "error",
          "ename": "TypeError",
          "evalue": "Can't instantiate abstract class Knigget with abstract methods talk",
          "traceback": [
            "\u001b[1;31m---------------------------------------------------------------------------\u001b[0m",
            "\u001b[1;31mTypeError\u001b[0m                                 Traceback (most recent call last)",
            "\u001b[1;32m<ipython-input-9-804f3a16fc5d>\u001b[0m in \u001b[0;36m<module>\u001b[1;34m\u001b[0m\n\u001b[1;32m----> 1\u001b[1;33m \u001b[0mKnigget\u001b[0m\u001b[1;33m(\u001b[0m\u001b[1;33m)\u001b[0m\u001b[1;33m\u001b[0m\u001b[1;33m\u001b[0m\u001b[0m\n\u001b[0m",
            "\u001b[1;31mTypeError\u001b[0m: Can't instantiate abstract class Knigget with abstract methods talk"
          ]
        }
      ]
    },
    {
      "cell_type": "code",
      "metadata": {
        "id": "ppp0-0Al_UZD"
      },
      "source": [
        "class Knigget(Talker):\n",
        "    def talk(self):\n",
        "        print(\"Ni!\")"
      ],
      "execution_count": null,
      "outputs": []
    },
    {
      "cell_type": "code",
      "metadata": {
        "id": "8Q4NTGl4_UZF",
        "outputId": "19c2feb9-cedf-40f9-9a2e-92c7996e9786"
      },
      "source": [
        "Knigget()"
      ],
      "execution_count": null,
      "outputs": [
        {
          "output_type": "execute_result",
          "data": {
            "text/plain": [
              "<__main__.Knigget at 0x3eed770>"
            ]
          },
          "metadata": {
            "tags": []
          },
          "execution_count": 12
        }
      ]
    },
    {
      "cell_type": "code",
      "metadata": {
        "id": "4CC85eVx_UZI",
        "outputId": "e6188081-ac17-403a-9cac-628e47bb5a5c"
      },
      "source": [
        "k = Knigget()\n",
        "k.talk()"
      ],
      "execution_count": null,
      "outputs": [
        {
          "output_type": "stream",
          "text": [
            "Ni!\n"
          ],
          "name": "stdout"
        }
      ]
    },
    {
      "cell_type": "code",
      "metadata": {
        "id": "Hgxlh-bG_UZL"
      },
      "source": [
        "# Registering New class below ABC\n",
        "class Herring:\n",
        "    def talk(self):\n",
        "        print(\"Blub.\")"
      ],
      "execution_count": null,
      "outputs": []
    },
    {
      "cell_type": "code",
      "metadata": {
        "id": "DydSfFDD_UZM",
        "outputId": "4f27ebca-b755-485c-dac0-44847fc4d5f2"
      },
      "source": [
        "h = Herring()\n",
        "isinstance(h, Talker)"
      ],
      "execution_count": null,
      "outputs": [
        {
          "output_type": "execute_result",
          "data": {
            "text/plain": [
              "False"
            ]
          },
          "metadata": {
            "tags": []
          },
          "execution_count": 16
        }
      ]
    },
    {
      "cell_type": "code",
      "metadata": {
        "id": "zFA-ffdx_UZO",
        "outputId": "ace17503-2cec-4355-f50d-28a12e4ff190"
      },
      "source": [
        "Talker.register(Herring)"
      ],
      "execution_count": null,
      "outputs": [
        {
          "output_type": "execute_result",
          "data": {
            "text/plain": [
              "__main__.Herring"
            ]
          },
          "metadata": {
            "tags": []
          },
          "execution_count": 17
        }
      ]
    },
    {
      "cell_type": "code",
      "metadata": {
        "id": "W-NSzp19_UZQ",
        "outputId": "4bb65002-2910-4b1f-bc35-57d85d060354"
      },
      "source": [
        "print(isinstance(h, Talker))\n",
        "print(issubclass(Herring, Talker))"
      ],
      "execution_count": null,
      "outputs": [
        {
          "output_type": "stream",
          "text": [
            "True\n",
            "True\n"
          ],
          "name": "stdout"
        }
      ]
    },
    {
      "cell_type": "code",
      "metadata": {
        "id": "r863_6h0_UZS",
        "outputId": "ce461b1f-5c14-4d80-cf11-36bb861cbcee"
      },
      "source": [
        "print(Talker.talk(\"hi\"))"
      ],
      "execution_count": null,
      "outputs": [
        {
          "output_type": "stream",
          "text": [
            "None\n"
          ],
          "name": "stdout"
        }
      ]
    },
    {
      "cell_type": "code",
      "metadata": {
        "id": "ZcqgmQ-u_UZV"
      },
      "source": [
        ""
      ],
      "execution_count": null,
      "outputs": []
    }
  ]
}